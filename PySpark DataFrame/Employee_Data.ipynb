 {
   "cell_type": "markdown",
   "id": "cc492972-efe5-4fc6-87ab-39458f39ea09",
   "metadata": {},
   "source": [
    "Strating by building a Pyspark Session"
   ]
  },
  {
   "cell_type": "code",
   "execution_count": 1,
   "id": "c1f7d4d0-9524-403a-8e8e-eb826a2287bc",
   "metadata": {
    "tags": []
   },
   "outputs": [],
   "source": [
    "from pyspark.sql import SparkSession"
   ]
  },
  {
   "cell_type": "code",
   "execution_count": 2,
   "id": "fe807538-55ed-4050-8a0f-10b71bfa3267",
   "metadata": {
    "tags": []
   },
   "outputs": [],
   "source": [
    "spark=SparkSession.builder.appName('DataFrame').getOrCreate()"
   ]
  },
  {
   "cell_type": "code",
   "execution_count": 3,
   "id": "53ea33b1-53c2-4ef6-a0cf-36dd030596f4",
   "metadata": {
    "tags": []
   },
   "outputs": [
    {
     "data": {
      "text/html": [
       "\n",
       "            <div>\n",
       "                <p><b>SparkSession - in-memory</b></p>\n",
       "                \n",
       "        <div>\n",
       "            <p><b>SparkContext</b></p>\n",
       "\n",
       "            <p><a href=\"http://DESKTOP-O58PAUC:4041\">Spark UI</a></p>\n",
       "\n",
       "            <dl>\n",
       "              <dt>Version</dt>\n",
       "                <dd><code>v3.3.2</code></dd>\n",
       "              <dt>Master</dt>\n",
       "                <dd><code>local[*]</code></dd>\n",
       "              <dt>AppName</dt>\n",
       "                <dd><code>DataFrame</code></dd>\n",
       "            </dl>\n",
       "        </div>\n",
       "        \n",
       "            </div>\n",
       "        "
      ],
      "text/plain": [
       "<pyspark.sql.session.SparkSession at 0x16a51ebbc50>"
      ]
     },
     "execution_count": 3,
     "metadata": {},
     "output_type": "execute_result"
    }
   ],
   "source": [
    "spark"
   ]
  },
  {
   "cell_type": "markdown",
   "id": "984aa734-0b4a-46bb-8548-207178be34ea",
   "metadata": {},
   "source": [
    "##### Read the dataset"
   ]
  },
  {
   "cell_type": "code",
   "execution_count": 13,
   "id": "b15f7b3d-d06b-4039-bd7b-bd853b0da591",
   "metadata": {
    "tags": []
   },
   "outputs": [],
   "source": [
    "df_pyspark=spark.read.option('header','true').csv('datasets/EmployeeSampleData.csv')"
   ]
  },
  {
   "cell_type": "code",
   "execution_count": 11,
   "id": "2bd3b0ef-6452-4278-9d99-6b2c2160cdfc",
   "metadata": {
    "tags": []
   },
   "outputs": [
    {
     "name": "stdout",
     "output_type": "stream",
     "text": [
      "+-----------+------------+--------------------+-----------+--------------------+------+---------+---+----------+-------------+----+\n",
      "|Employee ID|   Full Name|           Job Title| Department|       Business Unit|Gender|Ethnicity|Age| Hire Date|Annual Salary|_c10|\n",
      "+-----------+------------+--------------------+-----------+--------------------+------+---------+---+----------+-------------+----+\n",
      "|     E02002|      Kai Le|   Controls Engineer|Engineering|       Manufacturing|  Male|    Asian| 47|  2/5/2022|     $92,368 |null|\n",
      "|     E02003|Robert Patel|             Analyst|      Sales|           Corporate|  Male|    Asian| 58|10/23/2013|     $45,703 |null|\n",
      "|     E02004|  Cameron Lo|Network Administr...|         IT|Research & Develo...|  Male|    Asian| 34| 3/24/2019|     $83,576 |null|\n",
      "+-----------+------------+--------------------+-----------+--------------------+------+---------+---+----------+-------------+----+\n",
      "\n"
     ]
    }
   ],
   "source": [
    "df_pyspark=spark.read.option('header','true').csv('datasets/EmployeeSampleData.csv').show()"
   ]
  },
  {
   "cell_type": "markdown",
   "id": "bf8876a9-b6f2-49ec-8de6-14bc5b2bee56",
   "metadata": {},
   "source": [
    "##### Check the Shema"
   ]
  },
  {
   "cell_type": "code",
   "execution_count": 14,
   "id": "80e3b866-d2ed-41c3-afc0-05fa40fdb23d",
   "metadata": {
    "tags": []
   },
   "outputs": [
    {
     "name": "stdout",
     "output_type": "stream",
     "text": [
      "root\n",
      " |-- Employee ID: string (nullable = true)\n",
      " |-- Full Name: string (nullable = true)\n",
      " |-- Job Title: string (nullable = true)\n",
      " |-- Department: string (nullable = true)\n",
      " |-- Business Unit: string (nullable = true)\n",
      " |-- Gender: string (nullable = true)\n",
      " |-- Ethnicity: string (nullable = true)\n",
      " |-- Age: string (nullable = true)\n",
      " |-- Hire Date: string (nullable = true)\n",
      " |-- Annual Salary: string (nullable = true)\n",
      " |-- _c10: string (nullable = true)\n",
      "\n"
     ]
    }
   ],
   "source": [
    "df_pyspark.printSchema()"
   ]
  },
  {
   "cell_type": "markdown",
   "id": "90de0f3e-826c-497a-9b05-6ab57984430e",
   "metadata": {},
   "source": [
    "The default value set to this option is False when setting to true it automatically infers column types based on the data.It requires reading the data one more time to infer the schema"
   ]
  },
  {
   "cell_type": "code",
   "execution_count": 20,
   "id": "6588269f-5de1-45fb-b3b0-41ba387cbb63",
   "metadata": {
    "tags": []
   },
   "outputs": [],
   "source": [
    "df_pyspark=spark.read.csv('datasets/EmployeeSampleData.csv',header=True,inferSchema=True)"
   ]
  },
  {
   "cell_type": "code",
   "execution_count": 21,
   "id": "cae7e829-eda9-4a2f-a7cf-e572dc199dfc",
   "metadata": {
    "tags": []
   },
   "outputs": [
    {
     "name": "stdout",
     "output_type": "stream",
     "text": [
      "root\n",
      " |-- Employee ID: string (nullable = true)\n",
      " |-- Full Name: string (nullable = true)\n",
      " |-- Job Title: string (nullable = true)\n",
      " |-- Department: string (nullable = true)\n",
      " |-- Business Unit: string (nullable = true)\n",
      " |-- Gender: string (nullable = true)\n",
      " |-- Ethnicity: string (nullable = true)\n",
      " |-- Age: integer (nullable = true)\n",
      " |-- Hire Date: string (nullable = true)\n",
      " |-- Annual Salary: string (nullable = true)\n",
      " |-- _c10: string (nullable = true)\n",
      "\n"
     ]
    }
   ],
   "source": [
    "df_pyspark.printSchema()"
   ]
  },
  {
   "cell_type": "code",
   "execution_count": 27,
   "id": "99107f4d-9601-4335-835c-b88afcb67d35",
   "metadata": {
    "tags": []
   },
   "outputs": [
    {
     "name": "stdout",
     "output_type": "stream",
     "text": [
      "+-----------+------------+--------------------+-----------+--------------------+------+---------+---+----------+-------------+----+\n",
      "|Employee ID|   Full Name|           Job Title| Department|       Business Unit|Gender|Ethnicity|Age| Hire Date|Annual Salary|_c10|\n",
      "+-----------+------------+--------------------+-----------+--------------------+------+---------+---+----------+-------------+----+\n",
      "|     E02002|      Kai Le|   Controls Engineer|Engineering|       Manufacturing|  Male|    Asian| 47|  2/5/2022|     $92,368 |null|\n",
      "|     E02003|Robert Patel|             Analyst|      Sales|           Corporate|  Male|    Asian| 58|10/23/2013|     $45,703 |null|\n",
      "|     E02004|  Cameron Lo|Network Administr...|         IT|Research & Develo...|  Male|    Asian| 34| 3/24/2019|     $83,576 |null|\n",
      "+-----------+------------+--------------------+-----------+--------------------+------+---------+---+----------+-------------+----+\n",
      "\n"
     ]
    }
   ],
   "source": [
    "## using option\n",
    "df_pyspark2 = spark.read.option(\"inferSchema\",True) \\\n",
    "                .option(\"delimiter\",\",\") \\\n",
    "                .option(\"header\",True)\\\n",
    "  .csv('datasets/EmployeeSampleData.csv').show()"
   ]
  },
  {
   "cell_type": "code",
   "execution_count": 30,
   "id": "82e76fe8-9035-4fcf-b3aa-e86c8fa7ee1c",
   "metadata": {
    "tags": []
   },
   "outputs": [
    {
     "data": {
      "text/plain": [
       "pyspark.sql.dataframe.DataFrame"
      ]
     },
     "execution_count": 30,
     "metadata": {},
     "output_type": "execute_result"
    }
   ],
   "source": [
    "type(df_pyspark)"
   ]
  },
  {
   "cell_type": "code",
   "execution_count": 28,
   "id": "31009875-644e-4249-8ccc-c8feac831fa2",
   "metadata": {
    "tags": []
   },
   "outputs": [
    {
     "data": {
      "text/plain": [
       "['Employee ID',\n",
       " 'Full Name',\n",
       " 'Job Title',\n",
       " 'Department',\n",
       " 'Business Unit',\n",
       " 'Gender',\n",
       " 'Ethnicity',\n",
       " 'Age',\n",
       " 'Hire Date',\n",
       " 'Annual Salary',\n",
       " '_c10']"
      ]
     },
     "execution_count": 28,
     "metadata": {},
     "output_type": "execute_result"
    }
   ],
   "source": [
    "df_pyspark.columns"
   ]
  },
  {
   "cell_type": "code",
   "execution_count": 29,
   "id": "b2f5511c-d2c6-4c51-a83a-c2e351755035",
   "metadata": {
    "tags": []
   },
   "outputs": [
    {
     "data": {
      "text/plain": [
       "[Row(Employee ID='E02002', Full Name='Kai Le', Job Title='Controls Engineer', Department='Engineering', Business Unit='Manufacturing', Gender='Male', Ethnicity='Asian', Age=47, Hire Date='2/5/2022', Annual Salary='$92,368 ', _c10=None),\n",
       " Row(Employee ID='E02003', Full Name='Robert Patel', Job Title='Analyst', Department='Sales', Business Unit='Corporate', Gender='Male', Ethnicity='Asian', Age=58, Hire Date='10/23/2013', Annual Salary='$45,703 ', _c10=None),\n",
       " Row(Employee ID='E02004', Full Name='Cameron Lo', Job Title='Network Administrator', Department='IT', Business Unit='Research & Development', Gender='Male', Ethnicity='Asian', Age=34, Hire Date='3/24/2019', Annual Salary='$83,576 ', _c10=None)]"
      ]
     },
     "execution_count": 29,
     "metadata": {},
     "output_type": "execute_result"
    }
   ],
   "source": [
    "df_pyspark.head(3)"
   ]
  },
  {
   "cell_type": "markdown",
   "id": "c9bdc335-5851-4747-b3f7-bbb933e7bc68",
   "metadata": {},
   "source": [
    "###### Select a column"
   ]
  },
  {
   "cell_type": "code",
   "execution_count": 31,
   "id": "ff1bbf8d-10a6-4f4d-90ec-e0ecdc4fb0d5",
   "metadata": {
    "tags": []
   },
   "outputs": [
    {
     "data": {
      "text/plain": [
       "DataFrame[Full Name: string]"
      ]
     },
     "execution_count": 31,
     "metadata": {},
     "output_type": "execute_result"
    }
   ],
   "source": [
    "df_pyspark.select('Full Name')"
   ]
  },
  {
   "cell_type": "code",
   "execution_count": 32,
   "id": "239728cd-b690-456f-bc5b-6bd2adeda078",
   "metadata": {
    "tags": []
   },
   "outputs": [
    {
     "name": "stdout",
     "output_type": "stream",
     "text": [
      "+------------+\n",
      "|   Full Name|\n",
      "+------------+\n",
      "|      Kai Le|\n",
      "|Robert Patel|\n",
      "|  Cameron Lo|\n",
      "+------------+\n",
      "\n"
     ]
    }
   ],
   "source": [
    "df_pyspark.select('Full Name').show()"
   ]
  },
  {
   "cell_type": "code",
   "execution_count": 35,
   "id": "284f8846-a9b6-4a13-85c6-faf72fe8f525",
   "metadata": {
    "tags": []
   },
   "outputs": [
    {
     "data": {
      "text/plain": [
       "pyspark.sql.dataframe.DataFrame"
      ]
     },
     "execution_count": 35,
     "metadata": {},
     "output_type": "execute_result"
    }
   ],
   "source": [
    "type(df_pyspark.select('Full Name'))"
   ]
  },
  {
   "cell_type": "code",
   "execution_count": 36,
   "id": "8fb8b8ea-927d-4144-a797-79ef1a49a546",
   "metadata": {
    "tags": []
   },
   "outputs": [
    {
     "data": {
      "text/plain": [
       "DataFrame[Full Name: string, Job Title: string]"
      ]
     },
     "execution_count": 36,
     "metadata": {},
     "output_type": "execute_result"
    }
   ],
   "source": [
    "df_pyspark.select(['Full Name','Job Title'])"
   ]
  },
  {
   "cell_type": "code",
   "execution_count": 37,
   "id": "500be9c6-3738-42d8-9dbf-1882d6d7d13d",
   "metadata": {
    "tags": []
   },
   "outputs": [
    {
     "name": "stdout",
     "output_type": "stream",
     "text": [
      "+------------+--------------------+\n",
      "|   Full Name|           Job Title|\n",
      "+------------+--------------------+\n",
      "|      Kai Le|   Controls Engineer|\n",
      "|Robert Patel|             Analyst|\n",
      "|  Cameron Lo|Network Administr...|\n",
      "+------------+--------------------+\n",
      "\n"
     ]
    }
   ],
   "source": [
    "df_pyspark.select(['Full Name','Job Title']).show()"
   ]
  },
  {
   "cell_type": "code",
   "execution_count": 38,
   "id": "676320ec-b8c6-4182-9ece-d1da2c80cfcb",
   "metadata": {
    "tags": []
   },
   "outputs": [
    {
     "data": {
      "text/plain": [
       "[('Employee ID', 'string'),\n",
       " ('Full Name', 'string'),\n",
       " ('Job Title', 'string'),\n",
       " ('Department', 'string'),\n",
       " ('Business Unit', 'string'),\n",
       " ('Gender', 'string'),\n",
       " ('Ethnicity', 'string'),\n",
       " ('Age', 'int'),\n",
       " ('Hire Date', 'string'),\n",
       " ('Annual Salary', 'string'),\n",
       " ('_c10', 'string')]"
      ]
     },
     "execution_count": 38,
     "metadata": {},
     "output_type": "execute_result"
    }
   ],
   "source": [
    "df_pyspark.dtypes"
   ]
  },
  {
   "cell_type": "code",
   "execution_count": 40,
   "id": "edea2da6-7430-4226-b6c8-3d0c61b0e1fb",
   "metadata": {
    "tags": []
   },
   "outputs": [
    {
     "data": {
      "text/plain": [
       "DataFrame[summary: string, Employee ID: string, Full Name: string, Job Title: string, Department: string, Business Unit: string, Gender: string, Ethnicity: string, Age: string, Hire Date: string, Annual Salary: string, _c10: string]"
      ]
     },
     "execution_count": 40,
     "metadata": {},
     "output_type": "execute_result"
    }
   ],
   "source": [
    "df_pyspark.describe()"
   ]
  },
  {
   "cell_type": "code",
   "execution_count": 41,
   "id": "d014e6ae-5c02-46a8-9ab9-2a67f78d9306",
   "metadata": {
    "tags": []
   },
   "outputs": [
    {
     "name": "stdout",
     "output_type": "stream",
     "text": [
      "+-------+-----------+------------+--------------------+-----------+--------------------+------+---------+------------------+----------+-------------+----+\n",
      "|summary|Employee ID|   Full Name|           Job Title| Department|       Business Unit|Gender|Ethnicity|               Age| Hire Date|Annual Salary|_c10|\n",
      "+-------+-----------+------------+--------------------+-----------+--------------------+------+---------+------------------+----------+-------------+----+\n",
      "|  count|          3|           3|                   3|          3|                   3|     3|        3|                 3|         3|            3|   0|\n",
      "|   mean|       null|        null|                null|       null|                null|  null|     null|46.333333333333336|      null|         null|null|\n",
      "| stddev|       null|        null|                null|       null|                null|  null|     null|12.013880860626733|      null|         null|null|\n",
      "|    min|     E02002|  Cameron Lo|             Analyst|Engineering|           Corporate|  Male|    Asian|                34|10/23/2013|     $45,703 |null|\n",
      "|    max|     E02004|Robert Patel|Network Administr...|      Sales|Research & Develo...|  Male|    Asian|                58| 3/24/2019|     $92,368 |null|\n",
      "+-------+-----------+------------+--------------------+-----------+--------------------+------+---------+------------------+----------+-------------+----+\n",
      "\n"
     ]
    }
   ],
   "source": [
    "df_pyspark.describe().show()"
   ]
  },
  {
   "cell_type": "markdown",
   "id": "ab7f9fce-1df0-4fac-9f1e-5e99f0cc2270",
   "metadata": {},
   "source": [
    "##### Add, Drop, Rename columns"
   ]
  },
  {
   "cell_type": "code",
   "execution_count": 76,
   "id": "d21452a0-d8af-483c-a502-19586bb72697",
   "metadata": {
    "tags": []
   },
   "outputs": [],
   "source": [
    "import pyspark.sql.functions as F\n",
    "df=df_pyspark.withColumn('Job Title After 3 year', F.concat(F.lit(\"Senior \"), F.col('Job Title')))\n"
   ]
  },
  {
   "cell_type": "code",
   "execution_count": 77,
   "id": "93923547-e50a-46e1-a7ed-4cd45e5c4bff",
   "metadata": {
    "tags": []
   },
   "outputs": [
    {
     "name": "stdout",
     "output_type": "stream",
     "text": [
      "+-----------+------------+--------------------+-----------+--------------------+------+---------+---+----------+-------------+----+----------------------+\n",
      "|Employee ID|   Full Name|           Job Title| Department|       Business Unit|Gender|Ethnicity|Age| Hire Date|Annual Salary|_c10|Job Title After 3 year|\n",
      "+-----------+------------+--------------------+-----------+--------------------+------+---------+---+----------+-------------+----+----------------------+\n",
      "|     E02002|      Kai Le|   Controls Engineer|Engineering|       Manufacturing|  Male|    Asian| 47|  2/5/2022|     $92,368 |null|  Senior Controls E...|\n",
      "|     E02003|Robert Patel|             Analyst|      Sales|           Corporate|  Male|    Asian| 58|10/23/2013|     $45,703 |null|        Senior Analyst|\n",
      "|     E02004|  Cameron Lo|Network Administr...|         IT|Research & Develo...|  Male|    Asian| 34| 3/24/2019|     $83,576 |null|  Senior Network Ad...|\n",
      "+-----------+------------+--------------------+-----------+--------------------+------+---------+---+----------+-------------+----+----------------------+\n",
      "\n"
     ]
    }
   ],
   "source": [
    "df.show()"
   ]
  },
  {
   "cell_type": "code",
   "execution_count": 88,
   "id": "2248f487-9e26-49cd-8238-b9a502b9d3bf",
   "metadata": {
    "tags": []
   },
   "outputs": [],
   "source": [
    "df=df.withColumn('Age Next Year', df['Age'] + 1)"
   ]
  },
  {
   "cell_type": "code",
   "execution_count": 90,
   "id": "7eda093d-0999-4b09-a65a-c090be3a6405",
   "metadata": {
    "tags": []
   },
   "outputs": [
    {
     "name": "stdout",
     "output_type": "stream",
     "text": [
      "+-----------+------------+--------------------+-----------+--------------------+------+---------+---+----------+-------------+----+----------------------+-------------+\n",
      "|Employee ID|   Full Name|           Job Title| Department|       Business Unit|Gender|Ethnicity|Age| Hire Date|Annual Salary|_c10|Job Title After 3 year|Age Next Year|\n",
      "+-----------+------------+--------------------+-----------+--------------------+------+---------+---+----------+-------------+----+----------------------+-------------+\n",
      "|     E02002|      Kai Le|   Controls Engineer|Engineering|       Manufacturing|  Male|    Asian| 47|  2/5/2022|     $92,368 |null|  Senior Controls E...|           48|\n",
      "|     E02003|Robert Patel|             Analyst|      Sales|           Corporate|  Male|    Asian| 58|10/23/2013|     $45,703 |null|        Senior Analyst|           59|\n",
      "|     E02004|  Cameron Lo|Network Administr...|         IT|Research & Develo...|  Male|    Asian| 34| 3/24/2019|     $83,576 |null|  Senior Network Ad...|           35|\n",
      "+-----------+------------+--------------------+-----------+--------------------+------+---------+---+----------+-------------+----+----------------------+-------------+\n",
      "\n"
     ]
    }
   ],
   "source": [
    "df.show()"
   ]
  },
  {
   "cell_type": "code",
   "execution_count": 95,
   "id": "c752b333-2645-4555-b2ba-b9c0ca376fca",
   "metadata": {
    "tags": []
   },
   "outputs": [],
   "source": [
    "df=df.drop('Age Next Year')"
   ]
  },
  {
   "cell_type": "code",
   "execution_count": 96,
   "id": "fa83a863-b4bd-48c0-930d-dc4859f34344",
   "metadata": {
    "tags": []
   },
   "outputs": [
    {
     "name": "stdout",
     "output_type": "stream",
     "text": [
      "+-----------+------------+--------------------+-----------+--------------------+------+---------+---+----------+-------------+----+----------------------+\n",
      "|Employee ID|   Full Name|           Job Title| Department|       Business Unit|Gender|Ethnicity|Age| Hire Date|Annual Salary|_c10|Job Title After 3 year|\n",
      "+-----------+------------+--------------------+-----------+--------------------+------+---------+---+----------+-------------+----+----------------------+\n",
      "|     E02002|      Kai Le|   Controls Engineer|Engineering|       Manufacturing|  Male|    Asian| 47|  2/5/2022|     $92,368 |null|  Senior Controls E...|\n",
      "|     E02003|Robert Patel|             Analyst|      Sales|           Corporate|  Male|    Asian| 58|10/23/2013|     $45,703 |null|        Senior Analyst|\n",
      "|     E02004|  Cameron Lo|Network Administr...|         IT|Research & Develo...|  Male|    Asian| 34| 3/24/2019|     $83,576 |null|  Senior Network Ad...|\n",
      "+-----------+------------+--------------------+-----------+--------------------+------+---------+---+----------+-------------+----+----------------------+\n",
      "\n"
     ]
    }
   ],
   "source": [
    "df.show()"
   ]
  },
  {
   "cell_type": "code",
   "execution_count": 99,
   "id": "ad2dd511-2499-4a79-b229-dabed2b24d2b",
   "metadata": {
    "tags": []
   },
   "outputs": [],
   "source": [
    "df=df.withColumnRenamed('Full Name', 'New Name')"
   ]
  },
  {
   "cell_type": "code",
   "execution_count": 100,
   "id": "cfe7940f-023e-443e-be18-39077ebc9974",
   "metadata": {
    "tags": []
   },
   "outputs": [
    {
     "name": "stdout",
     "output_type": "stream",
     "text": [
      "+-----------+------------+--------------------+-----------+--------------------+------+---------+---+----------+-------------+----+----------------------+\n",
      "|Employee ID|    New Name|           Job Title| Department|       Business Unit|Gender|Ethnicity|Age| Hire Date|Annual Salary|_c10|Job Title After 3 year|\n",
      "+-----------+------------+--------------------+-----------+--------------------+------+---------+---+----------+-------------+----+----------------------+\n",
      "|     E02002|      Kai Le|   Controls Engineer|Engineering|       Manufacturing|  Male|    Asian| 47|  2/5/2022|     $92,368 |null|  Senior Controls E...|\n",
      "|     E02003|Robert Patel|             Analyst|      Sales|           Corporate|  Male|    Asian| 58|10/23/2013|     $45,703 |null|        Senior Analyst|\n",
      "|     E02004|  Cameron Lo|Network Administr...|         IT|Research & Develo...|  Male|    Asian| 34| 3/24/2019|     $83,576 |null|  Senior Network Ad...|\n",
      "+-----------+------------+--------------------+-----------+--------------------+------+---------+---+----------+-------------+----+----------------------+\n",
      "\n"
     ]
    }
   ],
   "source": [
    "df.show()"
   ]
  },
  {
   "cell_type": "markdown",
   "id": "660ab57d-ce75-4989-9f58-dcb2fae17c4f",
   "metadata": {
    "tags": []
   },
   "source": [
    "### Pyspark Dataframe : Handling Missing Values\n",
    "\n",
    "- Dropping Columns\n",
    "- Dropping Rows\n",
    "- Various Parameter In Dropping functionalities\n",
    "- Handling Missing values by Mean, Median And Mode"
   ]
  },
  {
   "cell_type": "code",
   "execution_count": 114,
   "id": "5100ffb2-e91a-4f21-99f3-31b628924f7e",
   "metadata": {
    "tags": []
   },
   "outputs": [],
   "source": [
    "df_pyspark=df_pyspark.drop('_c10')"
   ]
  },
  {
   "cell_type": "code",
   "execution_count": 115,
   "id": "3218b2b8-7721-49ef-8dc0-c23fe316ccb4",
   "metadata": {
    "tags": []
   },
   "outputs": [
    {
     "name": "stdout",
     "output_type": "stream",
     "text": [
      "+-----------+------------+--------------------+-----------+--------------------+------+---------+---+----------+-------------+\n",
      "|Employee ID|   Full Name|           Job Title| Department|       Business Unit|Gender|Ethnicity|Age| Hire Date|Annual Salary|\n",
      "+-----------+------------+--------------------+-----------+--------------------+------+---------+---+----------+-------------+\n",
      "|     E02002|      Kai Le|   Controls Engineer|Engineering|                null|  Male|    Asian| 47|  2/5/2022|     $92,368 |\n",
      "|     E02003|Robert Patel|             Analyst|      Sales|           Corporate|  Male|    Asian| 58|10/23/2013|         null|\n",
      "|     E02004|     Imen BH|Network Administr...|         IT|Research & Develo...|  Male|    Asian| 34| 3/24/2019|     $83,576 |\n",
      "+-----------+------------+--------------------+-----------+--------------------+------+---------+---+----------+-------------+\n",
      "\n"
     ]
    }
   ],
   "source": [
    "df_pyspark.drop('_c10').show()"
   ]
  },
  {
   "cell_type": "markdown",
   "id": "d9c55c23-b3ef-499f-86b6-e64e1d75c783",
   "metadata": {
    "tags": []
   },
   "source": [
    "#### Drop Rows based on then Null value\n",
    "Drop Rows whenerver null value exists"
   ]
  },
  {
   "cell_type": "code",
   "execution_count": 116,
   "id": "78b8efde-5664-4047-85ae-86ac13cd73e0",
   "metadata": {
    "tags": []
   },
   "outputs": [
    {
     "name": "stdout",
     "output_type": "stream",
     "text": [
      "+-----------+---------+--------------------+----------+--------------------+------+---------+---+---------+-------------+\n",
      "|Employee ID|Full Name|           Job Title|Department|       Business Unit|Gender|Ethnicity|Age|Hire Date|Annual Salary|\n",
      "+-----------+---------+--------------------+----------+--------------------+------+---------+---+---------+-------------+\n",
      "|     E02004|  Imen BH|Network Administr...|        IT|Research & Develo...|  Male|    Asian| 34|3/24/2019|     $83,576 |\n",
      "+-----------+---------+--------------------+----------+--------------------+------+---------+---+---------+-------------+\n",
      "\n"
     ]
    }
   ],
   "source": [
    "df_pyspark.na.drop().show()"
   ]
  },
  {
   "cell_type": "code",
   "execution_count": 117,
   "id": "8542d42a-7183-4827-be40-ce6e5d0669b6",
   "metadata": {
    "tags": []
   },
   "outputs": [
    {
     "name": "stdout",
     "output_type": "stream",
     "text": [
      "+-----------+------------+--------------------+-----------+--------------------+------+---------+---+----------+-------------+\n",
      "|Employee ID|   Full Name|           Job Title| Department|       Business Unit|Gender|Ethnicity|Age| Hire Date|Annual Salary|\n",
      "+-----------+------------+--------------------+-----------+--------------------+------+---------+---+----------+-------------+\n",
      "|     E02002|      Kai Le|   Controls Engineer|Engineering|                null|  Male|    Asian| 47|  2/5/2022|     $92,368 |\n",
      "|     E02003|Robert Patel|             Analyst|      Sales|           Corporate|  Male|    Asian| 58|10/23/2013|         null|\n",
      "|     E02004|     Imen BH|Network Administr...|         IT|Research & Develo...|  Male|    Asian| 34| 3/24/2019|     $83,576 |\n",
      "+-----------+------------+--------------------+-----------+--------------------+------+---------+---+----------+-------------+\n",
      "\n"
     ]
    }
   ],
   "source": [
    "## how == any or all\n",
    "df_pyspark.na.drop(how='all').show()"
   ]
  },
  {
   "cell_type": "code",
   "execution_count": 122,
   "id": "8ed1b633-a749-455a-9781-a88750ec67f6",
   "metadata": {
    "tags": []
   },
   "outputs": [
    {
     "name": "stdout",
     "output_type": "stream",
     "text": [
      "+-----------+------------+--------------------+-----------+--------------------+------+---------+---+----------+-------------+\n",
      "|Employee ID|   Full Name|           Job Title| Department|       Business Unit|Gender|Ethnicity|Age| Hire Date|Annual Salary|\n",
      "+-----------+------------+--------------------+-----------+--------------------+------+---------+---+----------+-------------+\n",
      "|     E02002|      Kai Le|   Controls Engineer|Engineering|                null|  Male|    Asian| 47|  2/5/2022|     $92,368 |\n",
      "|     E02003|Robert Patel|             Analyst|      Sales|           Corporate|  Male|    Asian| 58|10/23/2013|         null|\n",
      "|     E02004|     Imen BH|Network Administr...|         IT|Research & Develo...|  Male|    Asian| 34| 3/24/2019|     $83,576 |\n",
      "+-----------+------------+--------------------+-----------+--------------------+------+---------+---+----------+-------------+\n",
      "\n"
     ]
    }
   ],
   "source": [
    "## threshold , at least '2' non null values exists so do not drop\n",
    "df_pyspark.na.drop(how='any', thresh=2).show()"
   ]
  },
  {
   "cell_type": "code",
   "execution_count": 125,
   "id": "554ce260-ef07-4603-9570-cc29f2d7c305",
   "metadata": {
    "tags": []
   },
   "outputs": [
    {
     "name": "stdout",
     "output_type": "stream",
     "text": [
      "+-----------+---------+--------------------+-----------+--------------------+------+---------+---+---------+-------------+\n",
      "|Employee ID|Full Name|           Job Title| Department|       Business Unit|Gender|Ethnicity|Age|Hire Date|Annual Salary|\n",
      "+-----------+---------+--------------------+-----------+--------------------+------+---------+---+---------+-------------+\n",
      "|     E02002|   Kai Le|   Controls Engineer|Engineering|                null|  Male|    Asian| 47| 2/5/2022|     $92,368 |\n",
      "|     E02004|  Imen BH|Network Administr...|         IT|Research & Develo...|  Male|    Asian| 34|3/24/2019|     $83,576 |\n",
      "+-----------+---------+--------------------+-----------+--------------------+------+---------+---+---------+-------------+\n",
      "\n"
     ]
    }
   ],
   "source": [
    "## Subset applay the drop on specific column\n",
    "df_pyspark.na.drop(how='any', subset=['Annual Salary']).show()"
   ]
  },
  {
   "cell_type": "markdown",
   "id": "c57d4155-b596-41f1-995e-ee568be95ba2",
   "metadata": {},
   "source": [
    "#### Fill the missing value"
   ]
  },
  {
   "cell_type": "code",
   "execution_count": 127,
   "id": "fc83ec8f-8d40-4ab5-96a1-825ca10d2ee9",
   "metadata": {
    "tags": []
   },
   "outputs": [
    {
     "name": "stdout",
     "output_type": "stream",
     "text": [
      "+-----------+------------+--------------------+-----------+--------------------+------+---------+---+----------+-------------+\n",
      "|Employee ID|   Full Name|           Job Title| Department|       Business Unit|Gender|Ethnicity|Age| Hire Date|Annual Salary|\n",
      "+-----------+------------+--------------------+-----------+--------------------+------+---------+---+----------+-------------+\n",
      "|     E02002|      Kai Le|   Controls Engineer|Engineering|       Missing value|  Male|    Asian| 47|  2/5/2022|     $92,368 |\n",
      "|     E02003|Robert Patel|             Analyst|      Sales|           Corporate|  Male|    Asian| 58|10/23/2013|Missing value|\n",
      "|     E02004|     Imen BH|Network Administr...|         IT|Research & Develo...|  Male|    Asian| 34| 3/24/2019|     $83,576 |\n",
      "+-----------+------------+--------------------+-----------+--------------------+------+---------+---+----------+-------------+\n",
      "\n"
     ]
    }
   ],
   "source": [
    "df_pyspark.na.fill('Missing value').show()"
   ]
  },
  {
   "cell_type": "code",
   "execution_count": 130,
   "id": "5ad17e0a-254c-4f9b-b8fd-85048827da5e",
   "metadata": {
    "tags": []
   },
   "outputs": [
    {
     "name": "stdout",
     "output_type": "stream",
     "text": [
      "+-----------+------------+--------------------+-----------+--------------------+------+---------+---+----------+-------------+\n",
      "|Employee ID|   Full Name|           Job Title| Department|       Business Unit|Gender|Ethnicity|Age| Hire Date|Annual Salary|\n",
      "+-----------+------------+--------------------+-----------+--------------------+------+---------+---+----------+-------------+\n",
      "|     E02002|      Kai Le|   Controls Engineer|Engineering|       Missing value|  Male|    Asian| 47|  2/5/2022|     $92,368 |\n",
      "|     E02003|Robert Patel|             Analyst|      Sales|           Corporate|  Male|    Asian| 58|10/23/2013|Missing value|\n",
      "|     E02004|     Imen BH|Network Administr...|         IT|Research & Develo...|  Male|    Asian| 34| 3/24/2019|     $83,576 |\n",
      "+-----------+------------+--------------------+-----------+--------------------+------+---------+---+----------+-------------+\n",
      "\n"
     ]
    }
   ],
   "source": [
    "df_pyspark.na.fill('Missing value',['Annual Salary', 'Business Unit'] ).show()"
   ]
  },
  {
   "cell_type": "code",
   "execution_count": 137,
   "id": "a1305074-6a88-4b50-890a-34633b1bab96",
   "metadata": {
    "tags": []
   },
   "outputs": [
    {
     "name": "stdout",
     "output_type": "stream",
     "text": [
      "+-----------+---------------+--------------------+-----------+--------------------+------+---------+----+----------+-------------+\n",
      "|Employee ID|      Full Name|           Job Title| Department|       Business Unit|Gender|Ethnicity| Age| Hire Date|Annual Salary|\n",
      "+-----------+---------------+--------------------+-----------+--------------------+------+---------+----+----------+-------------+\n",
      "|     E02002|         Kai Le|   Controls Engineer|Engineering|                null|  Male|    Asian|null|  2/5/2022|     $92,368 |\n",
      "|     E02003|   Robert Patel|             Analyst|      Sales|           Corporate|  Male|    Asian|null|10/23/2013|         null|\n",
      "|     E02004|        Imen BH|Network Administr...|         IT|Research & Develo...|  Male|    Asian|null| 3/24/2019|     $83,576 |\n",
      "|     E02005|Harper Castillo|IT Systems Architect|         IT|           Corporate|Female|   Latino|  39|07/04/2018|     $98 062 |\n",
      "+-----------+---------------+--------------------+-----------+--------------------+------+---------+----+----------+-------------+\n",
      "\n"
     ]
    }
   ],
   "source": [
    "df_pyspark.show()"
   ]
  },
  {
   "cell_type": "code",
   "execution_count": 136,
   "id": "002a245a-48ed-470f-8744-0da5fddf0d49",
   "metadata": {
    "tags": []
   },
   "outputs": [
    {
     "name": "stdout",
     "output_type": "stream",
     "text": [
      "root\n",
      " |-- Employee ID: string (nullable = true)\n",
      " |-- Full Name: string (nullable = true)\n",
      " |-- Job Title: string (nullable = true)\n",
      " |-- Department: string (nullable = true)\n",
      " |-- Business Unit: string (nullable = true)\n",
      " |-- Gender: string (nullable = true)\n",
      " |-- Ethnicity: string (nullable = true)\n",
      " |-- Age: integer (nullable = true)\n",
      " |-- Hire Date: string (nullable = true)\n",
      " |-- Annual Salary: string (nullable = true)\n",
      "\n"
     ]
    }
   ],
   "source": [
    "df_pyspark.printSchema()"
   ]
  },
  {
   "cell_type": "markdown",
   "id": "c08e14bc-01ca-47a6-ac7d-7ace9f0dc7e8",
   "metadata": {},
   "source": [
    "Using the Imputer function from the PySpark library to use the mean/median/mode functionality.\n",
    "- First, calling the Imputer function from PySpark’s ml feature library.\n",
    "- Then using that Imputer object defined the input columns, as well as output columns in input columns given the name of the column which needs to be imputed, and the output column is the imputed one.\n",
    "- Then at the last, setting the strategy of imputing values (here it’s mean) but we can either use median or mode depending on the dataset."
   ]
  },
  {
   "cell_type": "code",
   "execution_count": 138,
   "id": "dff40391-ba8b-4331-b668-315453a40b09",
   "metadata": {
    "tags": []
   },
   "outputs": [],
   "source": [
    "from pyspark.ml.feature import Imputer\n",
    "\n",
    "imputer = Imputer(\n",
    "    inputCols=['Age'], \n",
    "    outputCols=[\"{}_imputed\".format(c) for c in ['age']]\n",
    "    ).setStrategy(\"mean\")"
   ]
  },
  {
   "cell_type": "code",
   "execution_count": 139,
   "id": "3fcc4091-4720-4043-b9b8-acf82a11d3d8",
   "metadata": {
    "tags": []
   },
   "outputs": [
    {
     "name": "stdout",
     "output_type": "stream",
     "text": [
      "+-----------+---------------+--------------------+-----------+--------------------+------+---------+----+----------+-------------+-----------+\n",
      "|Employee ID|      Full Name|           Job Title| Department|       Business Unit|Gender|Ethnicity| Age| Hire Date|Annual Salary|age_imputed|\n",
      "+-----------+---------------+--------------------+-----------+--------------------+------+---------+----+----------+-------------+-----------+\n",
      "|     E02002|         Kai Le|   Controls Engineer|Engineering|                null|  Male|    Asian|null|  2/5/2022|     $92,368 |         39|\n",
      "|     E02003|   Robert Patel|             Analyst|      Sales|           Corporate|  Male|    Asian|null|10/23/2013|         null|         39|\n",
      "|     E02004|        Imen BH|Network Administr...|         IT|Research & Develo...|  Male|    Asian|null| 3/24/2019|     $83,576 |         39|\n",
      "|     E02005|Harper Castillo|IT Systems Architect|         IT|           Corporate|Female|   Latino|  39|07/04/2018|     $98 062 |         39|\n",
      "+-----------+---------------+--------------------+-----------+--------------------+------+---------+----+----------+-------------+-----------+\n",
      "\n"
     ]
    }
   ],
   "source": [
    "## Add imputation columns to df\n",
    "imputer.fit(df_pyspark).transform(df_pyspark).show()"
   ]
  },
  {
   "cell_type": "code",
   "execution_count": 143,
   "id": "d4acff4c-1eb3-409b-b703-f048b6834153",
   "metadata": {
    "tags": []
   },
   "outputs": [
    {
     "name": "stdout",
     "output_type": "stream",
     "text": [
      "+-----------+---------------+--------------------+-----------+--------------------+------+---------+----+----------+-------------+-----------+\n",
      "|Employee ID|      Full Name|           Job Title| Department|       Business Unit|Gender|Ethnicity| Age| Hire Date|Annual Salary|age_imputed|\n",
      "+-----------+---------------+--------------------+-----------+--------------------+------+---------+----+----------+-------------+-----------+\n",
      "|     E02002|         Kai Le|   Controls Engineer|Engineering|                null|  Male|    Asian|null|  2/5/2022|     $92,368 |         39|\n",
      "|     E02003|   Robert Patel|             Analyst|      Sales|           Corporate|  Male|    Asian|null|10/23/2013|         null|         39|\n",
      "|     E02004|        Imen BH|Network Administr...|         IT|Research & Develo...|  Male|    Asian|null| 3/24/2019|     $83,576 |         39|\n",
      "|     E02005|Harper Castillo|IT Systems Architect|         IT|           Corporate|Female|   Latino|  39|07/04/2018|     $98 062 |         39|\n",
      "+-----------+---------------+--------------------+-----------+--------------------+------+---------+----+----------+-------------+-----------+\n",
      "\n"
     ]
    }
   ],
   "source": [
    "## try withe Median\n",
    "imputer = Imputer(\n",
    "    inputCols=['Age'], \n",
    "    outputCols=[\"{}_imputed\".format(c) for c in ['age']]\n",
    "    ).setStrategy(\"median\")\n",
    "imputer.fit(df_pyspark).transform(df_pyspark).show()"
   ]
  },
  {
   "cell_type": "markdown",
   "id": "ebe98f5c-245c-49c1-ad4d-83d024be6778",
   "metadata": {},
   "source": [
    "### Pyspark Dataframes- Filter operation"
   ]
  },
  {
   "cell_type": "code",
   "execution_count": 187,
   "id": "89693322-b1e4-4b3e-bdb3-b7249b8aa8f1",
   "metadata": {
    "tags": []
   },
   "outputs": [],
   "source": [
    "df= spark.read.csv('datasets/EmployeeData.csv', header=True, inferSchema=True)"
   ]
  },
  {
   "cell_type": "code",
   "execution_count": 188,
   "id": "c37d1f4a-37d3-4974-ae47-279faa81b7e6",
   "metadata": {
    "tags": []
   },
   "outputs": [
    {
     "name": "stdout",
     "output_type": "stream",
     "text": [
      "+-----------+----------------+--------------------+-----------+--------------------+------+---------+---+----------+-------------+------+-------------+---------+---------+\n",
      "|Employee ID|       Full Name|           Job Title| Department|       Business Unit|Gender|Ethnicity|Age| Hire Date|Annual Salary|Bonus |      Country|     City|Exit Date|\n",
      "+-----------+----------------+--------------------+-----------+--------------------+------+---------+---+----------+-------------+------+-------------+---------+---------+\n",
      "|     E02002|          Kai Le|   Controls Engineer|Engineering|       Manufacturing|  Male|    Asian| 47|  2/5/2022|      92,368 |   0.0|United States| Columbus|     null|\n",
      "|     E02003|    Robert Patel|             Analyst|      Sales|           Corporate|  Male|    Asian| 58|10/23/2013|      45,703 |   0.0|United States|  Chicago|     null|\n",
      "|     E02004|      Cameron Lo|Network Administr...|         IT|Research & Develo...|  Male|    Asian| 34| 3/24/2019|      83,576 |   0.0|        China| Shanghai|     null|\n",
      "|     E02005| Harper Castillo|IT Systems Architect|         IT|           Corporate|Female|   Latino| 39|  4/7/2018|      98,062 |   0.0|United States|  Seattle|     null|\n",
      "|     E02006|Harper Dominguez|            Director|Engineering|           Corporate|Female|   Latino| 42| 6/18/2005|     175,391 |  24.0|United States|   Austin|     null|\n",
      "|     E02007|         Ezra Vu|Network Administr...|         IT|       Manufacturing|  Male|    Asian| 62| 4/22/2004|      66,227 |   0.0|United States|  Phoenix|2/14/2014|\n",
      "|     E02008|         Jade Hu|         Sr. Analyst| Accounting|  Specialty Products|Female|    Asian| 58| 6/27/2009|      89,744 |   0.0|        China|Chongqing|     null|\n",
      "|     E02009|     Miles Chang|          Analyst II|    Finance|           Corporate|  Male|    Asian| 62| 2/19/1999|      69,674 |   0.0|        China|  Chengdu|     null|\n",
      "|     E02010|   Gianna Holmes|System Administra...|         IT|       Manufacturing|Female|Caucasian| 38|  9/9/2011|      97,630 |   0.0|United States|  Seattle|     null|\n",
      "|     E02011|  Jameson Thomas|             Manager|    Finance|  Specialty Products|  Male|Caucasian| 52|  2/5/2015|     105,879 |  10.0|United States|    Miami|     null|\n",
      "|     E02012|    Jameson Pena|     Systems Analyst|         IT|       Manufacturing|  Male|   Latino| 49|10/12/2003|      40,499 |   0.0|United States|    Miami|     null|\n",
      "|     E02013|        Bella Wu|         Sr. Analyst|    Finance|  Specialty Products|Female|    Asian| 63|  8/3/2014|      71,418 |   0.0|United States|  Phoenix|     null|\n",
      "|     E02014|       Jose Wong|            Director|         IT|       Manufacturing|  Male|    Asian| 45|11/15/2017|     150,558 |  23.0|        China|Chongqing|     null|\n",
      "|     E02015|Lucas Richardson|             Manager|  Marketing|           Corporate|  Male|Caucasian| 36| 7/22/2018|     118,912 |   8.0|United States|    Miami|     null|\n",
      "|     E02016|     Jacob Moore|         Sr. Manager|  Marketing|           Corporate|  Male|    Black| 42| 3/24/2021|     131,422 |  15.0|United States|  Phoenix|     null|\n",
      "|     E02017|         Luna Lu|IT Systems Architect|         IT|           Corporate|Female|    Asian| 62| 7/26/1997|      64,208 |   0.0|United States|    Miami|     null|\n",
      "|     E02018|      Bella Tran|      Vice President|Engineering|  Specialty Products|Female|    Asian| 45|  8/5/2010|     254,486 |  33.0|        China|  Chengdu|     null|\n",
      "|     E02019|        Ivy Chau|             Analyst|      Sales|  Specialty Products|Female|    Asian| 61|  3/3/2019|      54,811 |   0.0|        China|Chongqing|     null|\n",
      "|     E02020|    Jordan Kumar|Service Desk Analyst|         IT|  Specialty Products|  Male|    Asian| 29|11/11/2017|      95,729 |   0.0|United States|  Seattle|     null|\n",
      "|     E02021|Sophia Gutierrez|             Manager| Accounting|  Specialty Products|Female|   Latino| 63|  2/8/2009|     102,649 |   6.0|United States|   Austin|     null|\n",
      "+-----------+----------------+--------------------+-----------+--------------------+------+---------+---+----------+-------------+------+-------------+---------+---------+\n",
      "only showing top 20 rows\n",
      "\n"
     ]
    }
   ],
   "source": [
    "df.show()"
   ]
  },
  {
   "cell_type": "code",
   "execution_count": 194,
   "id": "c90e5d66-a9ab-4341-99af-da83411f9a7e",
   "metadata": {
    "tags": []
   },
   "outputs": [
    {
     "name": "stdout",
     "output_type": "stream",
     "text": [
      "root\n",
      " |-- Employee ID: string (nullable = true)\n",
      " |-- Full Name: string (nullable = true)\n",
      " |-- Job Title: string (nullable = true)\n",
      " |-- Department: string (nullable = true)\n",
      " |-- Business Unit: string (nullable = true)\n",
      " |-- Gender: string (nullable = true)\n",
      " |-- Ethnicity: string (nullable = true)\n",
      " |-- Age: integer (nullable = true)\n",
      " |-- Hire Date: string (nullable = true)\n",
      " |-- Annual Salary: string (nullable = true)\n",
      " |-- Bonus : double (nullable = true)\n",
      " |-- Country: string (nullable = true)\n",
      " |-- City: string (nullable = true)\n",
      " |-- Exit Date: string (nullable = true)\n",
      "\n"
     ]
    }
   ],
   "source": [
    "df.printSchema()"
   ]
  },
  {
   "cell_type": "code",
   "execution_count": 244,
   "id": "6fefee0f-feb0-4e4e-b4d3-5ac74b556a12",
   "metadata": {
    "tags": []
   },
   "outputs": [
    {
     "name": "stdout",
     "output_type": "stream",
     "text": [
      "+-----------+------------+---------------------+-----------+----------------------+------+---------+---+----------+-------------+------+-------------+--------+---------+\n",
      "|Employee ID|Full Name   |Job Title            |Department |Business Unit         |Gender|Ethnicity|Age|Hire Date |Annual Salary|Bonus |Country      |City    |Exit Date|\n",
      "+-----------+------------+---------------------+-----------+----------------------+------+---------+---+----------+-------------+------+-------------+--------+---------+\n",
      "|E02002     |Kai Le      |Controls Engineer    |Engineering|Manufacturing         |Male  |Asian    |47 |2/5/2022  |92368        |0.0   |United States|Columbus|null     |\n",
      "|E02003     |Robert Patel|Analyst              |Sales      |Corporate             |Male  |Asian    |58 |10/23/2013|45703        |0.0   |United States|Chicago |null     |\n",
      "|E02004     |Cameron Lo  |Network Administrator|IT         |Research & Development|Male  |Asian    |34 |3/24/2019 |83576        |0.0   |China        |Shanghai|null     |\n",
      "+-----------+------------+---------------------+-----------+----------------------+------+---------+---+----------+-------------+------+-------------+--------+---------+\n",
      "only showing top 3 rows\n",
      "\n"
     ]
    }
   ],
   "source": [
    "from pyspark.sql.functions import regexp_replace\n",
    "df_new = df.withColumn('Annual Salary', regexp_replace('Annual Salary', ',', ''))\n",
    "df_new.show(3,truncate=False)"
   ]
  },
  {
   "cell_type": "code",
   "execution_count": 245,
   "id": "4cf212ed-e419-4ffd-9480-54bb332564c7",
   "metadata": {
    "tags": []
   },
   "outputs": [
    {
     "name": "stdout",
     "output_type": "stream",
     "text": [
      "root\n",
      " |-- Employee ID: string (nullable = true)\n",
      " |-- Full Name: string (nullable = true)\n",
      " |-- Job Title: string (nullable = true)\n",
      " |-- Department: string (nullable = true)\n",
      " |-- Business Unit: string (nullable = true)\n",
      " |-- Gender: string (nullable = true)\n",
      " |-- Ethnicity: string (nullable = true)\n",
      " |-- Age: integer (nullable = true)\n",
      " |-- Hire Date: string (nullable = true)\n",
      " |-- Annual Salary: string (nullable = true)\n",
      " |-- Bonus : double (nullable = true)\n",
      " |-- Country: string (nullable = true)\n",
      " |-- City: string (nullable = true)\n",
      " |-- Exit Date: string (nullable = true)\n",
      "\n"
     ]
    }
   ],
   "source": [
    "df_new.printSchema()"
   ]
  },
  {
   "cell_type": "code",
   "execution_count": 246,
   "id": "7aab6cde-2b9b-4029-9e00-6f78761de065",
   "metadata": {
    "tags": []
   },
   "outputs": [],
   "source": [
    "from pyspark.sql.types import DoubleType\n",
    "from pyspark.sql.functions import col\n",
    "df_cast=df_new.withColumn(\"Annual Salary\",col('Annual Salary').cast('double'))"
   ]
  },
  {
   "cell_type": "code",
   "execution_count": 248,
   "id": "51d4c1cc-80ee-487c-ae36-1794c697d538",
   "metadata": {
    "tags": []
   },
   "outputs": [
    {
     "name": "stdout",
     "output_type": "stream",
     "text": [
      "+-----------+----------------+--------------------+-----------+--------------------+------+---------+---+----------+-------------+------+-------------+--------+---------+\n",
      "|Employee ID|       Full Name|           Job Title| Department|       Business Unit|Gender|Ethnicity|Age| Hire Date|Annual Salary|Bonus |      Country|    City|Exit Date|\n",
      "+-----------+----------------+--------------------+-----------+--------------------+------+---------+---+----------+-------------+------+-------------+--------+---------+\n",
      "|     E02002|          Kai Le|   Controls Engineer|Engineering|       Manufacturing|  Male|    Asian| 47|  2/5/2022|      92368.0|   0.0|United States|Columbus|     null|\n",
      "|     E02003|    Robert Patel|             Analyst|      Sales|           Corporate|  Male|    Asian| 58|10/23/2013|      45703.0|   0.0|United States| Chicago|     null|\n",
      "|     E02004|      Cameron Lo|Network Administr...|         IT|Research & Develo...|  Male|    Asian| 34| 3/24/2019|      83576.0|   0.0|        China|Shanghai|     null|\n",
      "|     E02005| Harper Castillo|IT Systems Architect|         IT|           Corporate|Female|   Latino| 39|  4/7/2018|      98062.0|   0.0|United States| Seattle|     null|\n",
      "|     E02006|Harper Dominguez|            Director|Engineering|           Corporate|Female|   Latino| 42| 6/18/2005|     175391.0|  24.0|United States|  Austin|     null|\n",
      "+-----------+----------------+--------------------+-----------+--------------------+------+---------+---+----------+-------------+------+-------------+--------+---------+\n",
      "only showing top 5 rows\n",
      "\n"
     ]
    }
   ],
   "source": [
    "df_cast.show(5)"
   ]
  },
  {
   "cell_type": "code",
   "execution_count": 249,
   "id": "1ef6e7da-0f52-400e-954b-1583e9c5aa6e",
   "metadata": {
    "tags": []
   },
   "outputs": [
    {
     "name": "stdout",
     "output_type": "stream",
     "text": [
      "root\n",
      " |-- Employee ID: string (nullable = true)\n",
      " |-- Full Name: string (nullable = true)\n",
      " |-- Job Title: string (nullable = true)\n",
      " |-- Department: string (nullable = true)\n",
      " |-- Business Unit: string (nullable = true)\n",
      " |-- Gender: string (nullable = true)\n",
      " |-- Ethnicity: string (nullable = true)\n",
      " |-- Age: integer (nullable = true)\n",
      " |-- Hire Date: string (nullable = true)\n",
      " |-- Annual Salary: double (nullable = true)\n",
      " |-- Bonus : double (nullable = true)\n",
      " |-- Country: string (nullable = true)\n",
      " |-- City: string (nullable = true)\n",
      " |-- Exit Date: string (nullable = true)\n",
      "\n"
     ]
    }
   ],
   "source": [
    "df_cast.printSchema()"
   ]
  },
  {
   "cell_type": "markdown",
   "id": "cbdccf4a-e5c0-49bb-88d3-2cb503e4060a",
   "metadata": {},
   "source": [
    "#### Filter Operations "
   ]
  },
  {
   "cell_type": "markdown",
   "id": "e11f6d8f-f868-4ea7-9831-6b98e416ef73",
   "metadata": {},
   "source": [
    "##### Age of the people under 30"
   ]
  },
  {
   "cell_type": "code",
   "execution_count": 242,
   "id": "deac49bd-1536-42da-9dab-394e62fa26d1",
   "metadata": {
    "tags": []
   },
   "outputs": [
    {
     "name": "stdout",
     "output_type": "stream",
     "text": [
      "+-----------+--------------+--------------------+-----------+--------------------+------+---------+---+----------+-------------+------+-------------+--------+---------+\n",
      "|Employee ID|     Full Name|           Job Title| Department|       Business Unit|Gender|Ethnicity|Age| Hire Date|Annual Salary|Bonus |      Country|    City|Exit Date|\n",
      "+-----------+--------------+--------------------+-----------+--------------------+------+---------+---+----------+-------------+------+-------------+--------+---------+\n",
      "|     E02020|  Jordan Kumar|Service Desk Analyst|         IT|  Specialty Products|  Male|    Asian| 29|11/11/2017|         null|   0.0|United States| Seattle|     null|\n",
      "|     E02033|       Axel Oh|         Sr. Analyst|      Sales|           Corporate|  Male|    Asian| 26|10/24/2020|         null|   0.0|        China| Chengdu|     null|\n",
      "|     E02040|Jeremiah Cheng|         Sr. Analyst|  Marketing|  Specialty Products|  Male|    Asian| 26|  2/5/2022|         null|   0.0|        China|Shanghai|     null|\n",
      "|     E02046|     Ruby Kaur|       Test Engineer|Engineering|Research & Develo...|Female|    Asian| 26| 6/26/2021|         null|   0.0|        China| Beijing|     null|\n",
      "|     E02053|    Jaxson Liu|      Vice President|    Finance|           Corporate|  Male|    Asian| 27| 5/18/2021|         null|  36.0|United States| Chicago|     null|\n",
      "+-----------+--------------+--------------------+-----------+--------------------+------+---------+---+----------+-------------+------+-------------+--------+---------+\n",
      "only showing top 5 rows\n",
      "\n"
     ]
    }
   ],
   "source": [
    "df_cast.filter(\"Age<=30\").show(5)"
   ]
  },
  {
   "cell_type": "code",
   "execution_count": 250,
   "id": "c62f2fc2-52e6-412f-82a8-3102bc9090b3",
   "metadata": {
    "tags": []
   },
   "outputs": [
    {
     "name": "stdout",
     "output_type": "stream",
     "text": [
      "+-----------+---------------+-------------+\n",
      "|Employee ID|      Full Name|Annual Salary|\n",
      "+-----------+---------------+-------------+\n",
      "|     E02020|   Jordan Kumar|      95729.0|\n",
      "|     E02033|        Axel Oh|      84962.0|\n",
      "|     E02040| Jeremiah Cheng|      70946.0|\n",
      "|     E02046|      Ruby Kaur|      91672.0|\n",
      "|     E02053|     Jaxson Liu|     205216.0|\n",
      "|     E02067|Serenity Martin|      97542.0|\n",
      "|     E02072|      Olivia Xi|     124535.0|\n",
      "|     E02076|     Axel Patel|      73203.0|\n",
      "|     E02081|   Eloise Perry|      88921.0|\n",
      "|     E02094|        Ayla Ma|     118304.0|\n",
      "|     E02099|      Ava Owens|      63066.0|\n",
      "|     E02105|  Ezekiel Brown|     120315.0|\n",
      "|     E02106|   Peyton Allen|     112264.0|\n",
      "|     E02109|  Lillian Desai|      92806.0|\n",
      "|     E02113|    Roman Liang|      85206.0|\n",
      "|     E02114|    Elias Rojas|      58290.0|\n",
      "|     E02118|Abigail Simmons|     126550.0|\n",
      "|     E02122|   Aaron Powell|      79975.0|\n",
      "|     E02128|     Luke Ramos|      72463.0|\n",
      "|     E02129|     Maya Gupta|      87675.0|\n",
      "+-----------+---------------+-------------+\n",
      "only showing top 20 rows\n",
      "\n"
     ]
    }
   ],
   "source": [
    "df_cast.filter(\"Age<=30\").select(\"Employee ID\",\"Full Name\",\"Annual Salary\").show()"
   ]
  },
  {
   "cell_type": "code",
   "execution_count": 255,
   "id": "e6437bfb-88a8-4487-882e-857dc1ca683c",
   "metadata": {
    "tags": []
   },
   "outputs": [
    {
     "name": "stdout",
     "output_type": "stream",
     "text": [
      "+-----------+----------------+--------------------+-----------+--------------------+------+---------+---+----------+-------------+------+-------------+--------+---------+\n",
      "|Employee ID|       Full Name|           Job Title| Department|       Business Unit|Gender|Ethnicity|Age| Hire Date|Annual Salary|Bonus |      Country|    City|Exit Date|\n",
      "+-----------+----------------+--------------------+-----------+--------------------+------+---------+---+----------+-------------+------+-------------+--------+---------+\n",
      "|     E02002|          Kai Le|   Controls Engineer|Engineering|       Manufacturing|  Male|    Asian| 47|  2/5/2022|      92368.0|   0.0|United States|Columbus|     null|\n",
      "|     E02003|    Robert Patel|             Analyst|      Sales|           Corporate|  Male|    Asian| 58|10/23/2013|      45703.0|   0.0|United States| Chicago|     null|\n",
      "|     E02004|      Cameron Lo|Network Administr...|         IT|Research & Develo...|  Male|    Asian| 34| 3/24/2019|      83576.0|   0.0|        China|Shanghai|     null|\n",
      "|     E02005| Harper Castillo|IT Systems Architect|         IT|           Corporate|Female|   Latino| 39|  4/7/2018|      98062.0|   0.0|United States| Seattle|     null|\n",
      "|     E02006|Harper Dominguez|            Director|Engineering|           Corporate|Female|   Latino| 42| 6/18/2005|     175391.0|  24.0|United States|  Austin|     null|\n",
      "+-----------+----------------+--------------------+-----------+--------------------+------+---------+---+----------+-------------+------+-------------+--------+---------+\n",
      "only showing top 5 rows\n",
      "\n"
     ]
    }
   ],
   "source": [
    "df_cast.filter(df_cast[\"Annual Salary\"]>20000).show(5)"
   ]
  },
  {
   "cell_type": "markdown",
   "id": "650074cd-c51c-457a-acc0-13ccc203086d",
   "metadata": {},
   "source": [
    "##### Not in ~"
   ]
  },
  {
   "cell_type": "code",
   "execution_count": 257,
   "id": "5b4d6c04-dc6f-4334-8153-c8f2ab09c6fa",
   "metadata": {
    "tags": []
   },
   "outputs": [
    {
     "name": "stdout",
     "output_type": "stream",
     "text": [
      "+-----------+---------+---------+----------+-------------+------+---------+---+---------+-------------+------+-------+----+---------+\n",
      "|Employee ID|Full Name|Job Title|Department|Business Unit|Gender|Ethnicity|Age|Hire Date|Annual Salary|Bonus |Country|City|Exit Date|\n",
      "+-----------+---------+---------+----------+-------------+------+---------+---+---------+-------------+------+-------+----+---------+\n",
      "+-----------+---------+---------+----------+-------------+------+---------+---+---------+-------------+------+-------+----+---------+\n",
      "\n"
     ]
    }
   ],
   "source": [
    "df_cast.filter(~(df_cast[\"Annual Salary\"]>20000)).show(5)"
   ]
  },
  {
   "cell_type": "markdown",
   "id": "983dc94b-6f88-4b6b-a794-c37d7237e8fe",
   "metadata": {
    "tags": []
   },
   "source": [
    "##### Multiple filters"
   ]
  },
  {
   "cell_type": "code",
   "execution_count": 262,
   "id": "674a0aef-e209-46cd-99c0-0d3c14561569",
   "metadata": {
    "tags": []
   },
   "outputs": [
    {
     "name": "stdout",
     "output_type": "stream",
     "text": [
      "+-----------+----------+--------------+-----------+--------------------+------+---------+---+----------+-------------+------+-------------+---------+---------+\n",
      "|Employee ID| Full Name|     Job Title| Department|       Business Unit|Gender|Ethnicity|Age| Hire Date|Annual Salary|Bonus |      Country|     City|Exit Date|\n",
      "+-----------+----------+--------------+-----------+--------------------+------+---------+---+----------+-------------+------+-------------+---------+---------+\n",
      "|     E02053|Jaxson Liu|Vice President|    Finance|           Corporate|  Male|    Asian| 27| 5/18/2021|     205216.0|  36.0|United States|  Chicago|     null|\n",
      "|     E02237| Ruby Reed|Vice President|Engineering|  Specialty Products|Female|Caucasian| 26| 1/23/2022|     249062.0|  39.0|United States|    Miami|     null|\n",
      "|     E02247|   Noah Ma|Vice President| Accounting|       Manufacturing|  Male|    Asian| 28| 11/6/2018|     201013.0|  31.0|United States|  Phoenix|     null|\n",
      "|     E02318|Carter Luu|Vice President|  Marketing|           Corporate|  Male|    Asian| 25|10/20/2022|     257296.0|  35.0|United States|   Austin|     null|\n",
      "|     E02332|Melody Luu|Vice President|    Finance|Research & Develo...|Female|    Asian| 28|  4/3/2021|     219180.0|  33.0|        China|Chongqing|     null|\n",
      "+-----------+----------+--------------+-----------+--------------------+------+---------+---+----------+-------------+------+-------------+---------+---------+\n",
      "only showing top 5 rows\n",
      "\n"
     ]
    }
   ],
   "source": [
    "df_cast.filter((df_cast[\"Annual Salary\"]>200000) & (df_cast[\"Age\"]<=30)).show(5)"
   ]
  },
  {
   "cell_type": "code",
   "execution_count": 261,
   "id": "a53a699f-ecc9-4394-937a-375f5d8a9fd1",
   "metadata": {
    "tags": []
   },
   "outputs": [
    {
     "name": "stdout",
     "output_type": "stream",
     "text": [
      "+-----------+----------------+--------------------+-----------+--------------------+------+---------+---+----------+-------------+------+-------------+--------+---------+\n",
      "|Employee ID|       Full Name|           Job Title| Department|       Business Unit|Gender|Ethnicity|Age| Hire Date|Annual Salary|Bonus |      Country|    City|Exit Date|\n",
      "+-----------+----------------+--------------------+-----------+--------------------+------+---------+---+----------+-------------+------+-------------+--------+---------+\n",
      "|     E02002|          Kai Le|   Controls Engineer|Engineering|       Manufacturing|  Male|    Asian| 47|  2/5/2022|      92368.0|   0.0|United States|Columbus|     null|\n",
      "|     E02003|    Robert Patel|             Analyst|      Sales|           Corporate|  Male|    Asian| 58|10/23/2013|      45703.0|   0.0|United States| Chicago|     null|\n",
      "|     E02004|      Cameron Lo|Network Administr...|         IT|Research & Develo...|  Male|    Asian| 34| 3/24/2019|      83576.0|   0.0|        China|Shanghai|     null|\n",
      "|     E02005| Harper Castillo|IT Systems Architect|         IT|           Corporate|Female|   Latino| 39|  4/7/2018|      98062.0|   0.0|United States| Seattle|     null|\n",
      "|     E02006|Harper Dominguez|            Director|Engineering|           Corporate|Female|   Latino| 42| 6/18/2005|     175391.0|  24.0|United States|  Austin|     null|\n",
      "+-----------+----------------+--------------------+-----------+--------------------+------+---------+---+----------+-------------+------+-------------+--------+---------+\n",
      "only showing top 5 rows\n",
      "\n"
     ]
    }
   ],
   "source": [
    "df_cast.filter((df_cast['Annual Salary']>200000) | \n",
    "                  (df_cast['Age']>=25)).show(5)"
   ]
  },
  {
   "cell_type": "markdown",
   "id": "2bb541f6-82a9-48df-9d2b-0dc540aaf32b",
   "metadata": {
    "tags": []
   },
   "source": [
    "### Pyspark GroupBy And Aggregate Functions"
   ]
  },
  {
   "cell_type": "code",
   "execution_count": 263,
   "id": "40c87108-8d90-4683-b04c-8d69e633432d",
   "metadata": {
    "tags": []
   },
   "outputs": [],
   "source": [
    "df_agg= df_cast.select('Full Name','Annual Salary','Department')"
   ]
  },
  {
   "cell_type": "code",
   "execution_count": 264,
   "id": "4a056927-7e95-4a5e-9309-b591ff465570",
   "metadata": {
    "tags": []
   },
   "outputs": [
    {
     "name": "stdout",
     "output_type": "stream",
     "text": [
      "+----------------+-------------+-----------+\n",
      "|       Full Name|Annual Salary| Department|\n",
      "+----------------+-------------+-----------+\n",
      "|          Kai Le|      92368.0|Engineering|\n",
      "|    Robert Patel|      45703.0|      Sales|\n",
      "|      Cameron Lo|      83576.0|         IT|\n",
      "| Harper Castillo|      98062.0|         IT|\n",
      "|Harper Dominguez|     175391.0|Engineering|\n",
      "+----------------+-------------+-----------+\n",
      "only showing top 5 rows\n",
      "\n"
     ]
    }
   ],
   "source": [
    "df_agg.show(5)"
   ]
  },
  {
   "cell_type": "code",
   "execution_count": 265,
   "id": "e3a75e31-2b6c-46dc-b9d6-e04d8d70f7ec",
   "metadata": {
    "tags": []
   },
   "outputs": [
    {
     "name": "stdout",
     "output_type": "stream",
     "text": [
      "root\n",
      " |-- Full Name: string (nullable = true)\n",
      " |-- Annual Salary: double (nullable = true)\n",
      " |-- Department: string (nullable = true)\n",
      "\n"
     ]
    }
   ],
   "source": [
    "df_agg.printSchema()"
   ]
  },
  {
   "cell_type": "markdown",
   "id": "83669098-5f6f-49aa-bc55-02d51f424b78",
   "metadata": {},
   "source": [
    "#### Group by "
   ]
  },
  {
   "cell_type": "code",
   "execution_count": 266,
   "id": "8c1b90a3-2277-45b3-84f3-7edaf3713cd0",
   "metadata": {
    "tags": []
   },
   "outputs": [
    {
     "data": {
      "text/plain": [
       "<pyspark.sql.group.GroupedData at 0x16a560a3d10>"
      ]
     },
     "execution_count": 266,
     "metadata": {},
     "output_type": "execute_result"
    }
   ],
   "source": [
    "df_agg.groupBy('Full Name')"
   ]
  },
  {
   "cell_type": "code",
   "execution_count": 275,
   "id": "2a16d2b7-45a0-438a-80dd-f66e5ea6f6bf",
   "metadata": {
    "tags": []
   },
   "outputs": [
    {
     "name": "stdout",
     "output_type": "stream",
     "text": [
      "+------------------+------------------+\n",
      "|         Full Name|sum(Annual Salary)|\n",
      "+------------------+------------------+\n",
      "|     Gianna Holmes|           97630.0|\n",
      "|    Olivia Vazquez|           93053.0|\n",
      "|       Gianna Park|          199406.0|\n",
      "|      Willow Xiong|          151363.0|\n",
      "|     Iris Phillips|           99586.0|\n",
      "|       Lydia Ahmed|          218052.0|\n",
      "|   Harper Castillo|          290348.0|\n",
      "|       Miles Chang|           69674.0|\n",
      "|       Jacob Cheng|          155890.0|\n",
      "|      Nevaeh Jiang|          240215.0|\n",
      "|      Brooks Evans|           80989.0|\n",
      "|        Addison Lo|           68712.0|\n",
      "|     Skylar Parker|           96195.0|\n",
      "|       Greyson Lim|          198662.0|\n",
      "|       Jordan Ford|          108000.0|\n",
      "|         Alice Luu|           81083.0|\n",
      "|Josephine Espinoza|          124295.0|\n",
      "|         James Han|           97496.0|\n",
      "|       Leonardo Li|          155716.0|\n",
      "|        Wesley Han|           83955.0|\n",
      "+------------------+------------------+\n",
      "only showing top 20 rows\n",
      "\n"
     ]
    }
   ],
   "source": [
    "df_agg.groupBy('Full Name').sum().show()"
   ]
  },
  {
   "cell_type": "code",
   "execution_count": 277,
   "id": "b1d2d386-a4c6-4d56-a00b-f2765a1a2df2",
   "metadata": {
    "tags": []
   },
   "outputs": [
    {
     "name": "stdout",
     "output_type": "stream",
     "text": [
      "+---------------+------------------+\n",
      "|     Department|max(Annual Salary)|\n",
      "+---------------+------------------+\n",
      "|          Sales|          258115.0|\n",
      "|    Engineering|          258734.0|\n",
      "|     Accounting|          257489.0|\n",
      "|        Finance|          256509.0|\n",
      "|      Marketing|          257296.0|\n",
      "|             IT|          256592.0|\n",
      "|Human Resources|          258722.0|\n",
      "+---------------+------------------+\n",
      "\n"
     ]
    }
   ],
   "source": [
    "df_agg.groupBy('Department').max().show()"
   ]
  },
  {
   "cell_type": "code",
   "execution_count": 268,
   "id": "485d8727-9bdd-4ed1-84d8-5ac63f47befc",
   "metadata": {
    "tags": []
   },
   "outputs": [
    {
     "name": "stdout",
     "output_type": "stream",
     "text": [
      "+---------------+------------------+\n",
      "|     Department|sum(Annual Salary)|\n",
      "+---------------+------------------+\n",
      "|          Sales|       1.5252303E7|\n",
      "|    Engineering|       1.5212233E7|\n",
      "|     Accounting|       1.4104292E7|\n",
      "|        Finance|       1.1792414E7|\n",
      "|      Marketing|       1.3706376E7|\n",
      "|             IT|       2.5606278E7|\n",
      "|Human Resources|       1.3648733E7|\n",
      "+---------------+------------------+\n",
      "\n"
     ]
    }
   ],
   "source": [
    "df_agg.groupBy('Department').sum().show()"
   ]
  },
  {
   "cell_type": "code",
   "execution_count": 269,
   "id": "ac840e22-bfbb-4af0-a342-35e06eb9d026",
   "metadata": {
    "tags": []
   },
   "outputs": [
    {
     "name": "stdout",
     "output_type": "stream",
     "text": [
      "+---------------+------------------+\n",
      "|     Department|avg(Annual Salary)|\n",
      "+---------------+------------------+\n",
      "|          Sales|         101682.02|\n",
      "|    Engineering|107888.17730496454|\n",
      "|     Accounting|122646.01739130435|\n",
      "|        Finance|120330.75510204081|\n",
      "|      Marketing|124603.41818181818|\n",
      "|             IT|  92441.4368231047|\n",
      "|Human Resources|125217.73394495413|\n",
      "+---------------+------------------+\n",
      "\n"
     ]
    }
   ],
   "source": [
    "df_agg.groupBy('Department').mean().show()"
   ]
  },
  {
   "cell_type": "code",
   "execution_count": 270,
   "id": "abc3293e-2f57-4c5c-9c58-88ed62db22f5",
   "metadata": {
    "tags": []
   },
   "outputs": [
    {
     "name": "stdout",
     "output_type": "stream",
     "text": [
      "+---------------+-----+\n",
      "|     Department|count|\n",
      "+---------------+-----+\n",
      "|          Sales|  150|\n",
      "|    Engineering|  141|\n",
      "|     Accounting|  115|\n",
      "|        Finance|   98|\n",
      "|      Marketing|  110|\n",
      "|             IT|  277|\n",
      "|Human Resources|  109|\n",
      "+---------------+-----+\n",
      "\n"
     ]
    }
   ],
   "source": [
    "df_agg.groupBy('Department').count().show()"
   ]
  },
  {
   "cell_type": "code",
   "execution_count": 271,
   "id": "6735aa01-f87e-419e-9128-a430049dce9f",
   "metadata": {
    "tags": []
   },
   "outputs": [
    {
     "name": "stdout",
     "output_type": "stream",
     "text": [
      "+------------------+\n",
      "|sum(Annual Salary)|\n",
      "+------------------+\n",
      "|      1.09322629E8|\n",
      "+------------------+\n",
      "\n"
     ]
    }
   ],
   "source": [
    "df_agg.agg({'Annual Salary':'sum'}).show()"
   ]
  },
  {
   "cell_type": "markdown",
   "id": "4c5b9627-0f20-42cc-bce1-3a45543b11df",
   "metadata": {},
   "source": [
    "### Example of Pyspark ML\n",
    "\n",
    "Given the age and the number of years of experience then predecting the Annual Salary"
   ]
  },
  {
   "cell_type": "markdown",
   "id": "3d2ce595-3437-40bc-93d5-b0b7f3d87850",
   "metadata": {},
   "source": [
    "#### Convert column String to Date\n",
    "\n",
    "- yyyy-MM-dd is the standard date format\n",
    "- yyyy-MM-dd HH:mm:ss.SSS is the standard timestamp format"
   ]
  },
  {
   "cell_type": "code",
   "execution_count": 278,
   "id": "37b5f78f-37fa-4951-89bf-abf8da19b423",
   "metadata": {
    "tags": []
   },
   "outputs": [
    {
     "name": "stdout",
     "output_type": "stream",
     "text": [
      "root\n",
      " |-- Employee ID: string (nullable = true)\n",
      " |-- Full Name: string (nullable = true)\n",
      " |-- Job Title: string (nullable = true)\n",
      " |-- Department: string (nullable = true)\n",
      " |-- Business Unit: string (nullable = true)\n",
      " |-- Gender: string (nullable = true)\n",
      " |-- Ethnicity: string (nullable = true)\n",
      " |-- Age: integer (nullable = true)\n",
      " |-- Hire Date: string (nullable = true)\n",
      " |-- Annual Salary: double (nullable = true)\n",
      " |-- Bonus : double (nullable = true)\n",
      " |-- Country: string (nullable = true)\n",
      " |-- City: string (nullable = true)\n",
      " |-- Exit Date: string (nullable = true)\n",
      "\n"
     ]
    }
   ],
   "source": [
    "df_cast.printSchema()"
   ]
  },
  {
   "cell_type": "code",
   "execution_count": 286,
   "id": "70ce9208-1a1c-4635-be60-0ba32d938be3",
   "metadata": {
    "tags": []
   },
   "outputs": [
    {
     "name": "stdout",
     "output_type": "stream",
     "text": [
      "+----------+---------+\n",
      "| Hire Date|Exit Date|\n",
      "+----------+---------+\n",
      "|  2/5/2022|     null|\n",
      "|10/23/2013|     null|\n",
      "| 3/24/2019|     null|\n",
      "|  4/7/2018|     null|\n",
      "| 6/18/2005|     null|\n",
      "| 4/22/2004|2/14/2014|\n",
      "| 6/27/2009|     null|\n",
      "| 2/19/1999|     null|\n",
      "|  9/9/2011|     null|\n",
      "|  2/5/2015|     null|\n",
      "+----------+---------+\n",
      "only showing top 10 rows\n",
      "\n"
     ]
    }
   ],
   "source": [
    "df_cast.select('Hire Date', 'Exit Date').show(10)"
   ]
  },
  {
   "cell_type": "code",
   "execution_count": 367,
   "id": "ceeb0235-1a05-4e8a-8dc8-3bec0014d654",
   "metadata": {
    "tags": []
   },
   "outputs": [
    {
     "data": {
      "text/plain": [
       "'EXCEPTION'"
      ]
     },
     "execution_count": 367,
     "metadata": {},
     "output_type": "execute_result"
    }
   ],
   "source": [
    "from pyspark.sql.functions import to_date\n",
    "from pyspark.sql.functions import *\n",
    "spark.conf.get(\"spark.sql.legacy.timeParserPolicy\")"
   ]
  },
  {
   "cell_type": "markdown",
   "id": "45fa8a8c-fe46-4025-97d3-9a9281d4f815",
   "metadata": {},
   "source": [
    "By Default it is EXCEPTION. Due to the upgrading of Spark 3.0: Fail to recognize 'EEE MMM dd HH:mm:ss zzz yyyy' pattern in the DateTimeFormatter so it might be usuful to set spark.sql.legacy.timeParserPolicy to LEGACY to restore the behavior before Spark 3.0."
   ]
  },
  {
   "cell_type": "code",
   "execution_count": 368,
   "id": "abb16af0-0949-47b8-b7a9-03e5f319c4ba",
   "metadata": {
    "tags": []
   },
   "outputs": [],
   "source": [
    "spark.conf.set(\"spark.sql.legacy.timeParserPolicy\",\"LEGACY\")"
   ]
  },
  {
   "cell_type": "code",
   "execution_count": 392,
   "id": "8d5039dd-e7a0-43f1-9379-c24a0d8f8a2d",
   "metadata": {
    "tags": []
   },
   "outputs": [],
   "source": [
    "df_date = df_cast.withColumn(\"Hire_Date\" , to_date(df_cast['Hire Date'], \"MM/dd/yyyy\"))"
   ]
  },
  {
   "cell_type": "code",
   "execution_count": 393,
   "id": "802d45e5-b093-4557-9062-b077b67b9514",
   "metadata": {
    "tags": []
   },
   "outputs": [],
   "source": [
    "df_date = df_date.withColumn(\"Exit_Date\" , to_date(df_cast['Exit Date'], \"MM/dd/yyyy\"))"
   ]
  },
  {
   "cell_type": "code",
   "execution_count": 394,
   "id": "e710c63d-e93c-4c82-82fc-653deeae4486",
   "metadata": {
    "tags": []
   },
   "outputs": [
    {
     "name": "stdout",
     "output_type": "stream",
     "text": [
      "+----------+----------+---------+----------+\n",
      "| Hire Date| Hire_Date|Exit Date| Exit_Date|\n",
      "+----------+----------+---------+----------+\n",
      "|  2/5/2022|2022-02-05|     null|      null|\n",
      "|10/23/2013|2013-10-23|     null|      null|\n",
      "| 3/24/2019|2019-03-24|     null|      null|\n",
      "|  4/7/2018|2018-04-07|     null|      null|\n",
      "| 6/18/2005|2005-06-18|     null|      null|\n",
      "| 4/22/2004|2004-04-22|2/14/2014|2014-02-14|\n",
      "| 6/27/2009|2009-06-27|     null|      null|\n",
      "| 2/19/1999|1999-02-19|     null|      null|\n",
      "|  9/9/2011|2011-09-09|     null|      null|\n",
      "|  2/5/2015|2015-02-05|     null|      null|\n",
      "|10/12/2003|2003-10-12|     null|      null|\n",
      "|  8/3/2014|2014-08-03|     null|      null|\n",
      "|11/15/2017|2017-11-15|     null|      null|\n",
      "| 7/22/2018|2018-07-22|     null|      null|\n",
      "| 3/24/2021|2021-03-24|     null|      null|\n",
      "| 7/26/1997|1997-07-26|     null|      null|\n",
      "|  8/5/2010|2010-08-05|     null|      null|\n",
      "|  3/3/2019|2019-03-03|     null|      null|\n",
      "|11/11/2017|2017-11-11|     null|      null|\n",
      "|  2/8/2009|2009-02-08|     null|      null|\n",
      "+----------+----------+---------+----------+\n",
      "only showing top 20 rows\n",
      "\n"
     ]
    }
   ],
   "source": [
    "df_date.select('Hire Date','Hire_Date','Exit Date','Exit_Date').show()"
   ]
  },
  {
   "cell_type": "markdown",
   "id": "832cef8b-6824-42e3-9be7-6726fa3d6d5b",
   "metadata": {
    "tags": []
   },
   "source": [
    "#### Create Experience column\n",
    "\n",
    "Calculate number of years of experience based on the date difference between hire date and exit date , but if exit date is null then calculate number of exeprince till the current date. "
   ]
  },
  {
   "cell_type": "code",
   "execution_count": 419,
   "id": "e4ad7e0c-8bce-49f7-bdd3-9e5ed72d1542",
   "metadata": {
    "tags": []
   },
   "outputs": [],
   "source": [
    "df_exp=df_date.withColumn(\"Experience\",round(months_between(coalesce(current_date(),col('Exit_Date')),col('Hire_Date'))/lit(12),0))                            "
   ]
  },
  {
   "cell_type": "code",
   "execution_count": 420,
   "id": "edaa6259-c2ec-44ff-9f98-e0b84ded2c18",
   "metadata": {
    "tags": []
   },
   "outputs": [
    {
     "name": "stdout",
     "output_type": "stream",
     "text": [
      "+----------+----------+----------+\n",
      "| Hire_Date| Exit_Date|Experience|\n",
      "+----------+----------+----------+\n",
      "|2022-02-05|      null|       1.0|\n",
      "|2013-10-23|      null|       9.0|\n",
      "|2019-03-24|      null|       4.0|\n",
      "|2018-04-07|      null|       5.0|\n",
      "|2005-06-18|      null|      18.0|\n",
      "|2004-04-22|2014-02-14|      19.0|\n",
      "|2009-06-27|      null|      14.0|\n",
      "|1999-02-19|      null|      24.0|\n",
      "|2011-09-09|      null|      12.0|\n",
      "|2015-02-05|      null|       8.0|\n",
      "|2003-10-12|      null|      19.0|\n",
      "|2014-08-03|      null|       9.0|\n",
      "|2017-11-15|      null|       5.0|\n",
      "|2018-07-22|      null|       5.0|\n",
      "|2021-03-24|      null|       2.0|\n",
      "|1997-07-26|      null|      26.0|\n",
      "|2010-08-05|      null|      13.0|\n",
      "|2019-03-03|      null|       4.0|\n",
      "|2017-11-11|      null|       5.0|\n",
      "|2009-02-08|      null|      14.0|\n",
      "+----------+----------+----------+\n",
      "only showing top 20 rows\n",
      "\n"
     ]
    }
   ],
   "source": [
    "df_exp.select('Hire_Date','Exit_Date','Experience').show()"
   ]
  },
  {
   "cell_type": "code",
   "execution_count": 421,
   "id": "e2eb43aa-7383-4f03-9acf-a0f1961882fb",
   "metadata": {
    "tags": []
   },
   "outputs": [],
   "source": [
    "df_exp=df_exp.select('Full Name','Age','Experience','Annual Salary')"
   ]
  },
  {
   "cell_type": "code",
   "execution_count": 422,
   "id": "29f96613-6132-4e4e-92e6-6a9e526d66ef",
   "metadata": {
    "tags": []
   },
   "outputs": [
    {
     "name": "stdout",
     "output_type": "stream",
     "text": [
      "root\n",
      " |-- Full Name: string (nullable = true)\n",
      " |-- Age: integer (nullable = true)\n",
      " |-- Experience: double (nullable = true)\n",
      " |-- Annual Salary: double (nullable = true)\n",
      "\n"
     ]
    }
   ],
   "source": [
    "df_exp.printSchema()"
   ]
  },
  {
   "cell_type": "code",
   "execution_count": 423,
   "id": "05ab32c0-0381-472d-ab83-f1fd3bd553cd",
   "metadata": {
    "tags": []
   },
   "outputs": [
    {
     "name": "stdout",
     "output_type": "stream",
     "text": [
      "+----------------+---+----------+-------------+\n",
      "|       Full Name|Age|Experience|Annual Salary|\n",
      "+----------------+---+----------+-------------+\n",
      "|          Kai Le| 47|       1.0|      92368.0|\n",
      "|    Robert Patel| 58|       9.0|      45703.0|\n",
      "|      Cameron Lo| 34|       4.0|      83576.0|\n",
      "| Harper Castillo| 39|       5.0|      98062.0|\n",
      "|Harper Dominguez| 42|      18.0|     175391.0|\n",
      "+----------------+---+----------+-------------+\n",
      "only showing top 5 rows\n",
      "\n"
     ]
    }
   ],
   "source": [
    "df_exp.show(5)"
   ]
  },
  {
   "cell_type": "code",
   "execution_count": 424,
   "id": "6cd9cf18-4069-4cfb-a2b3-b8d5e88c2220",
   "metadata": {
    "tags": []
   },
   "outputs": [
    {
     "data": {
      "text/plain": [
       "['Full Name', 'Age', 'Experience', 'Annual Salary']"
      ]
     },
     "execution_count": 424,
     "metadata": {},
     "output_type": "execute_result"
    }
   ],
   "source": [
    "df_exp.columns"
   ]
  },
  {
   "cell_type": "markdown",
   "id": "c93e2948-0ec5-4d29-aaa2-58aad29eda48",
   "metadata": {},
   "source": [
    "#### Create a Vector assembler \n",
    "\n",
    "the idea is to group all the feature as a new independent feature"
   ]
  },
  {
   "cell_type": "code",
   "execution_count": 425,
   "id": "96a14dbd-a070-4c0c-b159-fa2214230dc0",
   "metadata": {
    "tags": []
   },
   "outputs": [],
   "source": [
    "from pyspark.ml.feature import VectorAssembler"
   ]
  },
  {
   "cell_type": "code",
   "execution_count": 427,
   "id": "b11be830-14c1-49e7-a670-665d6bec3851",
   "metadata": {
    "tags": []
   },
   "outputs": [],
   "source": [
    "featureassembler = VectorAssembler(inputCols = [\"Age\",\"Experience\"] , outputCol = \"IndepenentFeature\")"
   ]
  },
  {
   "cell_type": "code",
   "execution_count": 430,
   "id": "24141d47-b718-40a8-bc04-3788b9adfdb7",
   "metadata": {
    "tags": []
   },
   "outputs": [],
   "source": [
    "output=featureassembler.transform(df_exp)"
   ]
  },
  {
   "cell_type": "code",
   "execution_count": 431,
   "id": "0a4e20ce-8f89-4f73-9ee7-e04563b71413",
   "metadata": {
    "tags": []
   },
   "outputs": [
    {
     "name": "stdout",
     "output_type": "stream",
     "text": [
      "+----------------+---+----------+-------------+-----------------+\n",
      "|       Full Name|Age|Experience|Annual Salary|IndepenentFeature|\n",
      "+----------------+---+----------+-------------+-----------------+\n",
      "|          Kai Le| 47|       1.0|      92368.0|       [47.0,1.0]|\n",
      "|    Robert Patel| 58|       9.0|      45703.0|       [58.0,9.0]|\n",
      "|      Cameron Lo| 34|       4.0|      83576.0|       [34.0,4.0]|\n",
      "| Harper Castillo| 39|       5.0|      98062.0|       [39.0,5.0]|\n",
      "|Harper Dominguez| 42|      18.0|     175391.0|      [42.0,18.0]|\n",
      "|         Ezra Vu| 62|      19.0|      66227.0|      [62.0,19.0]|\n",
      "|         Jade Hu| 58|      14.0|      89744.0|      [58.0,14.0]|\n",
      "|     Miles Chang| 62|      24.0|      69674.0|      [62.0,24.0]|\n",
      "|   Gianna Holmes| 38|      12.0|      97630.0|      [38.0,12.0]|\n",
      "|  Jameson Thomas| 52|       8.0|     105879.0|       [52.0,8.0]|\n",
      "|    Jameson Pena| 49|      19.0|      40499.0|      [49.0,19.0]|\n",
      "|        Bella Wu| 63|       9.0|      71418.0|       [63.0,9.0]|\n",
      "|       Jose Wong| 45|       5.0|     150558.0|       [45.0,5.0]|\n",
      "|Lucas Richardson| 36|       5.0|     118912.0|       [36.0,5.0]|\n",
      "|     Jacob Moore| 42|       2.0|     131422.0|       [42.0,2.0]|\n",
      "|         Luna Lu| 62|      26.0|      64208.0|      [62.0,26.0]|\n",
      "|      Bella Tran| 45|      13.0|     254486.0|      [45.0,13.0]|\n",
      "|        Ivy Chau| 61|       4.0|      54811.0|       [61.0,4.0]|\n",
      "|    Jordan Kumar| 29|       5.0|      95729.0|       [29.0,5.0]|\n",
      "|Sophia Gutierrez| 63|      14.0|     102649.0|      [63.0,14.0]|\n",
      "+----------------+---+----------+-------------+-----------------+\n",
      "only showing top 20 rows\n",
      "\n"
     ]
    }
   ],
   "source": [
    "output.show()"
   ]
  },
  {
   "cell_type": "code",
   "execution_count": 435,
   "id": "da5a112e-32a6-4a63-87f6-a3b853f00f32",
   "metadata": {
    "tags": []
   },
   "outputs": [
    {
     "data": {
      "text/plain": [
       "['Full Name', 'Age', 'Experience', 'Annual Salary', 'IndepenentFeature']"
      ]
     },
     "execution_count": 435,
     "metadata": {},
     "output_type": "execute_result"
    }
   ],
   "source": [
    "output.columns"
   ]
  },
  {
   "cell_type": "code",
   "execution_count": 438,
   "id": "1d120859-ba49-4940-9506-71dde72fb7fa",
   "metadata": {
    "tags": []
   },
   "outputs": [],
   "source": [
    "df_model=output.select(\"IndepenentFeature\",\"Annual Salary\")"
   ]
  },
  {
   "cell_type": "markdown",
   "id": "658c719c-0ed8-4685-9d11-bad7762e0eb8",
   "metadata": {
    "tags": []
   },
   "source": [
    "df_model.show()"
   ]
  },
  {
   "cell_type": "markdown",
   "id": "0ebcc4cc-935a-4ba2-9445-7493d527f6dd",
   "metadata": {},
   "source": [
    "#### Train Test Split"
   ]
  },
  {
   "cell_type": "code",
   "execution_count": 441,
   "id": "bd3872f9-2074-4c26-8aec-13882fcaf80f",
   "metadata": {
    "tags": []
   },
   "outputs": [],
   "source": [
    "from pyspark.ml.regression import LinearRegression"
   ]
  },
  {
   "cell_type": "code",
   "execution_count": 442,
   "id": "781cb420-3256-49d2-88ee-8fa1cf38393e",
   "metadata": {
    "tags": []
   },
   "outputs": [],
   "source": [
    "df_train, df_test = df_model.randomSplit([0.75,0.25])"
   ]
  },
  {
   "cell_type": "code",
   "execution_count": 445,
   "id": "a81348c6-82ba-47bd-b720-31454ebf8fc1",
   "metadata": {
    "tags": []
   },
   "outputs": [],
   "source": [
    "regressor = LinearRegression(featuresCol=\"IndepenentFeature\",labelCol= \"Annual Salary\" )\n",
    "regressor = regressor.fit(df_train)"
   ]
  },
  {
   "cell_type": "markdown",
   "id": "ba7ee405-fcd5-4791-8acd-8e14d14e57eb",
   "metadata": {},
   "source": [
    "##### Coefficients"
   ]
  },
  {
   "cell_type": "code",
   "execution_count": 446,
   "id": "2f2a8955-e202-4e96-a101-155d65e4d1b4",
   "metadata": {
    "tags": []
   },
   "outputs": [
    {
     "data": {
      "text/plain": [
       "DenseVector([93.0946, 188.513])"
      ]
     },
     "execution_count": 446,
     "metadata": {},
     "output_type": "execute_result"
    }
   ],
   "source": [
    "regressor.coefficients"
   ]
  },
  {
   "cell_type": "markdown",
   "id": "6ef900f0-bd15-4845-8e58-609b1e22f71f",
   "metadata": {},
   "source": [
    "#### Intercept"
   ]
  },
  {
   "cell_type": "code",
   "execution_count": 447,
   "id": "4cc005c6-8c52-4bd5-919a-9b16b25ea7b9",
   "metadata": {
    "tags": []
   },
   "outputs": [
    {
     "data": {
      "text/plain": [
       "102269.441199951"
      ]
     },
     "execution_count": 447,
     "metadata": {},
     "output_type": "execute_result"
    }
   ],
   "source": [
    "regressor.intercept"
   ]
  },
  {
   "cell_type": "markdown",
   "id": "2b8ec1a3-205b-433d-b81d-9797278137c6",
   "metadata": {},
   "source": [
    "#### Prediction"
   ]
  },
  {
   "cell_type": "code",
   "execution_count": 448,
   "id": "fff6a98b-e06f-4259-91b3-0ef64ecb1c16",
   "metadata": {
    "tags": []
   },
   "outputs": [],
   "source": [
    "pred_results= regressor.evaluate(df_test)"
   ]
  },
  {
   "cell_type": "code",
   "execution_count": 449,
   "id": "5ecd72b5-6fe0-4947-9cd4-2c5412d6fbfb",
   "metadata": {
    "tags": []
   },
   "outputs": [
    {
     "name": "stdout",
     "output_type": "stream",
     "text": [
      "+-----------------+-------------+------------------+\n",
      "|IndepenentFeature|Annual Salary|        prediction|\n",
      "+-----------------+-------------+------------------+\n",
      "|       [25.0,0.0]|     177264.0| 104596.8073897319|\n",
      "|       [25.0,1.0]|     197331.0|104785.32041797931|\n",
      "|       [26.0,1.0]|      59436.0|104878.41506557055|\n",
      "|       [26.0,1.0]|      82963.0|104878.41506557055|\n",
      "|       [26.0,1.0]|     193435.0|104878.41506557055|\n",
      "|       [26.0,1.0]|     249062.0|104878.41506557055|\n",
      "|       [26.0,2.0]|      91672.0|105066.92809381796|\n",
      "|       [26.0,2.0]|      97542.0|105066.92809381796|\n",
      "|       [26.0,2.0]|     140756.0|105066.92809381796|\n",
      "|       [26.0,2.0]|     153832.0|105066.92809381796|\n",
      "|       [26.0,3.0]|      64278.0|105255.44112206536|\n",
      "|       [26.0,3.0]|     211114.0|105255.44112206536|\n",
      "|       [27.0,1.0]|     120315.0|104971.50971316178|\n",
      "|       [27.0,2.0]|      51133.0| 105160.0227414092|\n",
      "|       [27.0,2.0]|      75583.0| 105160.0227414092|\n",
      "|       [27.0,2.0]|     205216.0| 105160.0227414092|\n",
      "|       [27.0,3.0]|      61693.0|105348.53576965659|\n",
      "|       [27.0,3.0]|      88142.0|105348.53576965659|\n",
      "|       [27.0,3.0]|     181587.0|105348.53576965659|\n",
      "|       [28.0,0.0]|     198662.0| 104876.0913325056|\n",
      "+-----------------+-------------+------------------+\n",
      "only showing top 20 rows\n",
      "\n"
     ]
    }
   ],
   "source": [
    "pred_results.predictions.show()"
   ]
  },
  {
   "cell_type": "code",
   "execution_count": 450,
   "id": "e67096f4-b89f-40d4-b903-99e9bd267d3b",
   "metadata": {
    "tags": []
   },
   "outputs": [
    {
     "data": {
      "text/plain": [
       "(44526.38081569333, 3056094280.321939)"
      ]
     },
     "execution_count": 450,
     "metadata": {},
     "output_type": "execute_result"
    }
   ],
   "source": [
    "pred_results.meanAbsoluteError, pred_results.meanSquaredError"
   ]
  },
  {
   "cell_type": "code",
   "execution_count": null,
   "id": "3e1a3010-2f9a-40fb-8097-5a864aefba25",
   "metadata": {},
   "outputs": [],
   "source": []
  },
  {
   "cell_type": "code",
   "execution_count": null,
   "id": "78e221a5-da33-4a3e-a4ea-ea5367178164",
   "metadata": {},
   "outputs": [],
   "source": []
  }
 ],
 "metadata": {
  "kernelspec": {
   "display_name": "pyenv",
   "language": "python",
   "name": "pyenv"
  },
  "language_info": {
   "codemirror_mode": {
    "name": "ipython",
    "version": 3
   },
   "file_extension": ".py",
   "mimetype": "text/x-python",
   "name": "python",
   "nbconvert_exporter": "python",
   "pygments_lexer": "ipython3",
   "version": "3.11.0"
  }
 },
 "nbformat": 4,
 "nbformat_minor": 5
}
