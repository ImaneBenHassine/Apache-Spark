{
 "cells": [
  {
   "cell_type": "markdown",
   "id": "dde650b6-7dde-4af5-9d88-7a996e8ea924",
   "metadata": {},
   "source": [
    "### DataFrame object"
   ]
  },
  {
   "cell_type": "markdown",
   "id": "f7ae847c-4bb0-481b-8c1a-487bc243243c",
   "metadata": {
    "tags": []
   },
   "source": [
    "#### Create SparkContext and SparkSession "
   ]
  },
  {
   "cell_type": "code",
   "execution_count": 11,
   "id": "3f75622e-a293-4ce2-b72b-848e85ce42e7",
   "metadata": {
    "tags": []
   },
   "outputs": [],
   "source": [
    "import os\n",
    "import sys\n",
    "\n",
    "os.environ['PYSPARK_PYTHON'] = sys.executable\n",
    "os.environ['PYSPARK_DRIVER_PYTHON'] = sys.executable"
   ]
  },
  {
   "cell_type": "code",
   "execution_count": 12,
   "id": "0d56d9b6-2763-463a-9036-ec8326710e16",
   "metadata": {
    "tags": []
   },
   "outputs": [],
   "source": [
    "# create entry points to spark\n",
    "try:\n",
    "    sc.stop()\n",
    "except:\n",
    "    pass\n",
    "from pyspark import SparkContext, SparkConf\n",
    "from pyspark.sql import SparkSession\n",
    "sc=SparkContext()\n",
    "spark = SparkSession(sparkContext=sc)"
   ]
  },
  {
   "cell_type": "code",
   "execution_count": 13,
   "id": "310200c3-b596-4caf-a110-bb08fb30e4ce",
   "metadata": {
    "tags": []
   },
   "outputs": [
    {
     "data": {
      "text/html": [
       "\n",
       "            <div>\n",
       "                <p><b>SparkSession - in-memory</b></p>\n",
       "                \n",
       "        <div>\n",
       "            <p><b>SparkContext</b></p>\n",
       "\n",
       "            <p><a href=\"http://DESKTOP-O58PAUC:4040\">Spark UI</a></p>\n",
       "\n",
       "            <dl>\n",
       "              <dt>Version</dt>\n",
       "                <dd><code>v3.4.0</code></dd>\n",
       "              <dt>Master</dt>\n",
       "                <dd><code>local[*]</code></dd>\n",
       "              <dt>AppName</dt>\n",
       "                <dd><code>pyspark-shell</code></dd>\n",
       "            </dl>\n",
       "        </div>\n",
       "        \n",
       "            </div>\n",
       "        "
      ],
      "text/plain": [
       "<pyspark.sql.session.SparkSession at 0x166bada3250>"
      ]
     },
     "execution_count": 13,
     "metadata": {},
     "output_type": "execute_result"
    }
   ],
   "source": [
    "spark"
   ]
  },
  {
   "cell_type": "markdown",
   "id": "ff07c526-ffdb-4809-af3c-9cded2d15a32",
   "metadata": {
    "tags": []
   },
   "source": [
    "#### Create a DataFrame object\n",
    "##### - By reading a file"
   ]
  },
  {
   "cell_type": "code",
   "execution_count": 14,
   "id": "bcfb683b-d2c9-442c-a045-74d0c8fdcaa1",
   "metadata": {
    "tags": []
   },
   "outputs": [
    {
     "name": "stdout",
     "output_type": "stream",
     "text": [
      "+-----------------------------------------------------------------------------------------------+-----------------+--------------------------------------------------------------------------------------------------------------------------------------------+----+--------+----+------+\n",
      "|furniture                                                                                      |type             |url                                                                                                                                         |rate|delivery|sale|price |\n",
      "+-----------------------------------------------------------------------------------------------+-----------------+--------------------------------------------------------------------------------------------------------------------------------------------+----+--------+----+------+\n",
      "|Bed side table with storage shelf                                                              |Home Decor Center|https://www.jumia.com.eg//ar/home-decor-center-bedside-table-side-table-with-drawer-white-403055-cm-304-27151996.html                       |3.3 |172.14  |72% |2500.0|\n",
      "|Bed side table with storage shelf                                                              |Modern Home      |https://www.jumia.com.eg//ar/modern-home-bedside-table-side-table-with-storage-white-554040-27151979.html                                   |0   |172.14  |54% |1200.0|\n",
      "|Modern Zigzag TV Table                                                                         |Modern Home      |https://www.jumia.com.eg//ar/generic-zigzag-tv-table-beige-120cm-32489890.html                                                              |0   |172.14  |18% |1099.0|\n",
      "|Bedside table with storage shelf                                                               |Modern Home      |https://www.jumia.com.eg//ar/modern-home-bedside-table-side-table-with-storage-black-554040-cm-305-27152038.html                            |0   |172.14  |58% |1200.0|\n",
      "|Wall Mounted TV Unit with Cabinet TV Stand Unit with Shelves for Living Room (Brown with White)|Modern Home      |https://www.jumia.com.eg//ar/modern-home-wall-mounted-tv-unit-cabinet-with-tv-stand-unit-wall-shelf-for-living-room-brownwhite-37664677.html|5   |52.44   |54% |1400.0|\n",
      "+-----------------------------------------------------------------------------------------------+-----------------+--------------------------------------------------------------------------------------------------------------------------------------------+----+--------+----+------+\n",
      "only showing top 5 rows\n",
      "\n"
     ]
    }
   ],
   "source": [
    "fpp = spark.read.csv(path='datasets/Furniture Price Prediction.csv',\n",
    "                        sep=',',\n",
    "                        encoding='UTF-8',\n",
    "                        comment=None,\n",
    "                        header=True, \n",
    "                        inferSchema=True)\n",
    "fpp.show(n=5, truncate=False)"
   ]
  },
  {
   "cell_type": "markdown",
   "id": "f25d4a0b-9e37-4130-bce3-fedbb2b4b214",
   "metadata": {
    "tags": []
   },
   "source": [
    "##### - By reading createDataFrame function\n",
    "\n",
    "######  1. From an RDD\n",
    "where elements in RDD become a Row object "
   ]
  },
  {
   "cell_type": "code",
   "execution_count": 15,
   "id": "e00746e7-2df5-4d8a-87bf-ccf14fb2a776",
   "metadata": {
    "tags": []
   },
   "outputs": [
    {
     "data": {
      "text/plain": [
       "[Row(x=[5, 6, 4], y=['apple', 'orange', 'berries']),\n",
       " Row(x=[4, 5, 6], y=['pear', 'kiwi', 'banana'])]"
      ]
     },
     "execution_count": 15,
     "metadata": {},
     "output_type": "execute_result"
    }
   ],
   "source": [
    "from pyspark.sql import Row\n",
    "rdd = sc.parallelize([\n",
    "    Row(x=[5,6,4], y=['apple', 'orange', 'berries']),\n",
    "    Row(x=[4,5,6], y=['pear', 'kiwi', 'banana'])\n",
    "])\n",
    "rdd.collect()"
   ]
  },
  {
   "cell_type": "markdown",
   "id": "3e750fa3-d3ee-4870-a4ac-333203b12dd5",
   "metadata": {
    "tags": []
   },
   "source": [
    "######  2. From an RDD From pandas DataFrame"
   ]
  },
  {
   "cell_type": "code",
   "execution_count": 16,
   "id": "804f00ee-c271-482e-97fc-41fd5869a9b5",
   "metadata": {
    "tags": []
   },
   "outputs": [
    {
     "data": {
      "text/html": [
       "<div>\n",
       "<style scoped>\n",
       "    .dataframe tbody tr th:only-of-type {\n",
       "        vertical-align: middle;\n",
       "    }\n",
       "\n",
       "    .dataframe tbody tr th {\n",
       "        vertical-align: top;\n",
       "    }\n",
       "\n",
       "    .dataframe thead th {\n",
       "        text-align: right;\n",
       "    }\n",
       "</style>\n",
       "<table border=\"1\" class=\"dataframe\">\n",
       "  <thead>\n",
       "    <tr style=\"text-align: right;\">\n",
       "      <th></th>\n",
       "      <th>x</th>\n",
       "      <th>y</th>\n",
       "    </tr>\n",
       "  </thead>\n",
       "  <tbody>\n",
       "    <tr>\n",
       "      <th>0</th>\n",
       "      <td>[5, 6, 4]</td>\n",
       "      <td>[apple, orange, berries]</td>\n",
       "    </tr>\n",
       "    <tr>\n",
       "      <th>1</th>\n",
       "      <td>[4, 5, 6]</td>\n",
       "      <td>[pear, kiwi, banana]</td>\n",
       "    </tr>\n",
       "  </tbody>\n",
       "</table>\n",
       "</div>"
      ],
      "text/plain": [
       "           x                         y\n",
       "0  [5, 6, 4]  [apple, orange, berries]\n",
       "1  [4, 5, 6]      [pear, kiwi, banana]"
      ]
     },
     "execution_count": 16,
     "metadata": {},
     "output_type": "execute_result"
    }
   ],
   "source": [
    "import pandas as pd\n",
    "pd_df = pd.DataFrame({\n",
    "    'x': [[5,6,4], [4,5,6]],\n",
    "    'y': [['apple', 'orange', 'berries'], ['pear', 'kiwi', 'banana']]\n",
    "})\n",
    "pd_df"
   ]
  },
  {
   "cell_type": "markdown",
   "id": "f779bc78-e298-4e08-aa09-af435aeccc2c",
   "metadata": {
    "tags": []
   },
   "source": [
    "######  3. From a list\n",
    "Each element in the list becomes an Row in the DataFrame."
   ]
  },
  {
   "cell_type": "code",
   "execution_count": 19,
   "id": "b6c3a64c-12be-438a-b63c-f74072cf86f5",
   "metadata": {
    "tags": []
   },
   "outputs": [
    {
     "name": "stdout",
     "output_type": "stream",
     "text": [
      "+------+-----+\n",
      "| fruit|price|\n",
      "+------+-----+\n",
      "| apple|    5|\n",
      "|orange|    6|\n",
      "+------+-----+\n",
      "\n"
     ]
    }
   ],
   "source": [
    "df_list = [['apple', 5], ['orange', 6]]\n",
    "df = spark.createDataFrame(df_list, ['fruit', 'price'])\n",
    "df.show()"
   ]
  },
  {
   "cell_type": "code",
   "execution_count": 23,
   "id": "965d8a3a-8135-45e9-a1f4-6b8b15f0ba05",
   "metadata": {},
   "outputs": [
    {
     "data": {
      "text/plain": [
       "[('fruit', 'string'), ('price', 'bigint')]"
      ]
     },
     "execution_count": 23,
     "metadata": {},
     "output_type": "execute_result"
    }
   ],
   "source": [
    "df.dtypes"
   ]
  },
  {
   "cell_type": "markdown",
   "id": "526fa2e7-2e49-4e8d-8591-8ed381bc8f04",
   "metadata": {
    "tags": []
   },
   "source": [
    "### Conversion between Dataframe and RDD"
   ]
  },
  {
   "cell_type": "markdown",
   "id": "3fc91adf-d727-441b-a96a-d38b3b4b4c2e",
   "metadata": {},
   "source": [
    "#### DataFrame to RDD\n",
    "A DataFrame can be easily converted to an RDD by calling the **pyspark.sql.DataFrame.rdd()** function. Each element in the returned RDD is an pyspark.sql.Row object which is a list of key-value pairs."
   ]
  },
  {
   "cell_type": "code",
   "execution_count": 28,
   "id": "d7223238-10a8-4feb-89d4-f709786f3ff5",
   "metadata": {
    "tags": []
   },
   "outputs": [
    {
     "data": {
      "text/plain": [
       "[Row(furniture='Bed side table with storage shelf ', type='Home Decor Center', url='https://www.jumia.com.eg//ar/home-decor-center-bedside-table-side-table-with-drawer-white-403055-cm-304-27151996.html', rate='3.3', delivery=172.14, sale='72%', price='2500.0'),\n",
       " Row(furniture='Bed side table with storage shelf ', type='Modern Home', url='https://www.jumia.com.eg//ar/modern-home-bedside-table-side-table-with-storage-white-554040-27151979.html', rate='0', delivery=172.14, sale='54%', price='1200.0'),\n",
       " Row(furniture='Modern Zigzag TV Table ', type='Modern Home', url='https://www.jumia.com.eg//ar/generic-zigzag-tv-table-beige-120cm-32489890.html', rate='0', delivery=172.14, sale='18%', price='1099.0')]"
      ]
     },
     "execution_count": 28,
     "metadata": {},
     "output_type": "execute_result"
    }
   ],
   "source": [
    "fpp.rdd.take(3)"
   ]
  },
  {
   "cell_type": "markdown",
   "id": "6a058bf3-d4d4-4688-b018-4622ca5f2dbf",
   "metadata": {},
   "source": [
    "and from here, we can apply a set of mapping functions, such as **map, mapValues, flatMap, flatMapValues** and other methods that come from RDD."
   ]
  },
  {
   "cell_type": "code",
   "execution_count": 45,
   "id": "24a4d3db-0f54-47ad-9d6a-e11ebe02be3c",
   "metadata": {
    "tags": []
   },
   "outputs": [
    {
     "data": {
      "text/plain": [
       "[('Bed side table with storage shelf ', '2500.0'),\n",
       " ('Bed side table with storage shelf ', '1200.0'),\n",
       " ('Modern Zigzag TV Table ', '1099.0'),\n",
       " ('Bedside table with storage shelf ', '1200.0'),\n",
       " ('Wall Mounted TV Unit with Cabinet TV Stand Unit with Shelves for Living Room (Brown with White)',\n",
       "  '1400.0')]"
      ]
     },
     "execution_count": 45,
     "metadata": {},
     "output_type": "execute_result"
    }
   ],
   "source": [
    "fpp_map = fpp.rdd.map(lambda x: (x['furniture'], x['price']))\n",
    "fpp_map.take(5)"
   ]
  },
  {
   "cell_type": "markdown",
   "id": "099f0eba-4138-4d01-b8e8-e320f5158ea2",
   "metadata": {},
   "source": [
    "here , a new element with the **price** is added for each element of furniture, the result of the RDD is **PairRDDFunction**s which contains key-value pairs, word of type String as Key and price of type Int as value. SO **map() operates on the entire key-value pair**."
   ]
  },
  {
   "cell_type": "markdown",
   "id": "0d55ca59-05aa-45a2-8d33-0cadb84d46b0",
   "metadata": {},
   "source": [
    "But **mapValues() operates only on the values of the key-value pair** let's see with this exemple."
   ]
  },
  {
   "cell_type": "code",
   "execution_count": 47,
   "id": "aa327302-984c-4471-96bd-f7a450993b97",
   "metadata": {
    "tags": []
   },
   "outputs": [
    {
     "data": {
      "text/plain": [
       "[('Bed side table with storage shelf ', ['2500.0', '2500.02500.0']),\n",
       " ('Bed side table with storage shelf ', ['1200.0', '1200.01200.0']),\n",
       " ('Modern Zigzag TV Table ', ['1099.0', '1099.01099.0']),\n",
       " ('Bedside table with storage shelf ', ['1200.0', '1200.01200.0']),\n",
       " ('Wall Mounted TV Unit with Cabinet TV Stand Unit with Shelves for Living Room (Brown with White)',\n",
       "  ['1400.0', '1400.01400.0'])]"
      ]
     },
     "execution_count": 47,
     "metadata": {},
     "output_type": "execute_result"
    }
   ],
   "source": [
    "fpp_mapvalues = fpp_map.mapValues(lambda x: [x, x * 2])\n",
    "fpp_mapvalues.take(5)"
   ]
  },
  {
   "cell_type": "markdown",
   "id": "339d0fea-fbf0-4da3-b129-aed761149732",
   "metadata": {
    "tags": []
   },
   "source": [
    "####  RDD to DataFrame \n",
    "To convert an RDD to a DataFrame, we can use the SparkSession.createDataFrame() function. Every element in the RDD has be to an Row object.\n",
    "\n",
    "##### Create an RDD"
   ]
  },
  {
   "cell_type": "code",
   "execution_count": 51,
   "id": "3e2e06ff-bd8a-401c-a16a-1be32bcc865a",
   "metadata": {
    "tags": []
   },
   "outputs": [
    {
     "data": {
      "text/plain": [
       "['furniture,type,url,rate,delivery,sale,price',\n",
       " 'Bed side table with storage shelf ,Home Decor Center,https://www.jumia.com.eg//ar/home-decor-center-bedside-table-side-table-with-drawer-white-403055-cm-304-27151996.html,3.3,172.14,72%,2500.0',\n",
       " 'Bed side table with storage shelf ,Modern Home,https://www.jumia.com.eg//ar/modern-home-bedside-table-side-table-with-storage-white-554040-27151979.html,0,172.14,54%,1200.0']"
      ]
     },
     "execution_count": 51,
     "metadata": {},
     "output_type": "execute_result"
    }
   ],
   "source": [
    "rdd_raw = sc.textFile('datasets/Furniture Price Prediction.csv')\n",
    "rdd_raw.take(3)"
   ]
  },
  {
   "cell_type": "markdown",
   "id": "8fb85d9f-9be5-4527-baf9-55a6c0e0f259",
   "metadata": {
    "tags": []
   },
   "source": [
    "##### Save the first row to a variable"
   ]
  },
  {
   "cell_type": "code",
   "execution_count": 57,
   "id": "bc359ee6-91af-4a40-843a-d5685b34592a",
   "metadata": {
    "tags": []
   },
   "outputs": [
    {
     "data": {
      "text/plain": [
       "['furniture', 'type', 'url', 'rate', 'delivery', 'sale', 'price']"
      ]
     },
     "execution_count": 57,
     "metadata": {},
     "output_type": "execute_result"
    }
   ],
   "source": [
    "header = rdd_raw.map(lambda x: x.split(',')).filter(lambda x: x[0] == 'furniture').collect()[0]\n",
    "header"
   ]
  },
  {
   "cell_type": "markdown",
   "id": "07d662b2-0a71-43d5-a222-6c62d31f332f",
   "metadata": {},
   "source": [
    "##### Save the rest to a new RDD"
   ]
  },
  {
   "cell_type": "code",
   "execution_count": 56,
   "id": "4ffc1ea8-bef8-41f6-aa2f-6e2802cafcad",
   "metadata": {
    "tags": []
   },
   "outputs": [
    {
     "data": {
      "text/plain": [
       "[['Bed side table with storage shelf ',\n",
       "  'Home Decor Center',\n",
       "  'https://www.jumia.com.eg//ar/home-decor-center-bedside-table-side-table-with-drawer-white-403055-cm-304-27151996.html',\n",
       "  '3.3',\n",
       "  '172.14',\n",
       "  '72%',\n",
       "  '2500.0'],\n",
       " ['Bed side table with storage shelf ',\n",
       "  'Modern Home',\n",
       "  'https://www.jumia.com.eg//ar/modern-home-bedside-table-side-table-with-storage-white-554040-27151979.html',\n",
       "  '0',\n",
       "  '172.14',\n",
       "  '54%',\n",
       "  '1200.0']]"
      ]
     },
     "execution_count": 56,
     "metadata": {},
     "output_type": "execute_result"
    }
   ],
   "source": [
    "rdd = rdd_raw.map(lambda x: x.split(',')).filter(lambda x: x[0] != 'furniture')\n",
    "rdd.take(2)"
   ]
  },
  {
   "cell_type": "markdown",
   "id": "71dc7bed-5d39-48d3-bad9-0f32c35f65a0",
   "metadata": {},
   "source": [
    "###### Convert RDD elements to RDD Row objects"
   ]
  },
  {
   "cell_type": "markdown",
   "id": "274f8cb3-f954-4512-8dec-4735be61aa4f",
   "metadata": {},
   "source": [
    "First we define a function which takes a list of column names and a list of values and create a Row of key-value pairs. Since keys in an Row object are variable names, we can’t simply pass a dictionary to the Row() function. We can think of a dictionary as an argument list and use the ** to unpack the argument list.\n",
    "\n",
    "let's define the function"
   ]
  },
  {
   "cell_type": "code",
   "execution_count": 58,
   "id": "caf5b914-163c-485b-a674-93a4bbfee81b",
   "metadata": {
    "tags": []
   },
   "outputs": [],
   "source": [
    "def list_to_row(keys, values):\n",
    "    row_dict = dict(zip(keys, values))\n",
    "    return Row(**row_dict)"
   ]
  },
  {
   "cell_type": "code",
   "execution_count": 59,
   "id": "ebb259f8-74cb-49e8-826c-529cdb76a960",
   "metadata": {
    "tags": []
   },
   "outputs": [
    {
     "data": {
      "text/plain": [
       "[Row(furniture='Bed side table with storage shelf ', type='Home Decor Center', url='https://www.jumia.com.eg//ar/home-decor-center-bedside-table-side-table-with-drawer-white-403055-cm-304-27151996.html', rate='3.3', delivery='172.14', sale='72%', price='2500.0'),\n",
       " Row(furniture='Bed side table with storage shelf ', type='Modern Home', url='https://www.jumia.com.eg//ar/modern-home-bedside-table-side-table-with-storage-white-554040-27151979.html', rate='0', delivery='172.14', sale='54%', price='1200.0'),\n",
       " Row(furniture='Modern Zigzag TV Table ', type='Modern Home', url='https://www.jumia.com.eg//ar/generic-zigzag-tv-table-beige-120cm-32489890.html', rate='0', delivery='172.14', sale='18%', price='1099.0')]"
      ]
     },
     "execution_count": 59,
     "metadata": {},
     "output_type": "execute_result"
    }
   ],
   "source": [
    "rdd_rows = rdd.map(lambda x: list_to_row(header, x))\n",
    "rdd_rows.take(3)"
   ]
  },
  {
   "cell_type": "markdown",
   "id": "534f419d-debd-4774-b59a-cc77dcac3a84",
   "metadata": {},
   "source": [
    "Now we can convert the **RDD** to a **DataFrame**."
   ]
  },
  {
   "cell_type": "code",
   "execution_count": 60,
   "id": "64c2511c-0f71-43ff-9c10-c5107b0bf6ca",
   "metadata": {
    "tags": []
   },
   "outputs": [
    {
     "name": "stdout",
     "output_type": "stream",
     "text": [
      "+--------------------+-----------------+--------------------+----+--------+----+------+\n",
      "|           furniture|             type|                 url|rate|delivery|sale| price|\n",
      "+--------------------+-----------------+--------------------+----+--------+----+------+\n",
      "|Bed side table wi...|Home Decor Center|https://www.jumia...| 3.3|  172.14| 72%|2500.0|\n",
      "|Bed side table wi...|      Modern Home|https://www.jumia...|   0|  172.14| 54%|1200.0|\n",
      "|Modern Zigzag TV ...|      Modern Home|https://www.jumia...|   0|  172.14| 18%|1099.0|\n",
      "|Bedside table wit...|      Modern Home|https://www.jumia...|   0|  172.14| 58%|1200.0|\n",
      "|Wall Mounted TV U...|      Modern Home|https://www.jumia...|   5|   52.44| 54%|1400.0|\n",
      "+--------------------+-----------------+--------------------+----+--------+----+------+\n",
      "only showing top 5 rows\n",
      "\n"
     ]
    }
   ],
   "source": [
    "df = spark.createDataFrame(rdd_rows)\n",
    "df.show(5)"
   ]
  },
  {
   "cell_type": "code",
   "execution_count": null,
   "id": "d0264945-e6f8-4896-a3ff-1e6a35bd59fd",
   "metadata": {},
   "outputs": [],
   "source": []
  }
 ],
 "metadata": {
  "kernelspec": {
   "display_name": "pyenv",
   "language": "python",
   "name": "pyenv"
  },
  "language_info": {
   "codemirror_mode": {
    "name": "ipython",
    "version": 3
   },
   "file_extension": ".py",
   "mimetype": "text/x-python",
   "name": "python",
   "nbconvert_exporter": "python",
   "pygments_lexer": "ipython3",
   "version": "3.11.0"
  }
 },
 "nbformat": 4,
 "nbformat_minor": 5
}
