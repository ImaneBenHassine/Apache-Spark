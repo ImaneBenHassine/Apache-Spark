{
 "cells": [
  {
   "cell_type": "markdown",
   "id": "4c9dc7fb-6b0a-4001-91f7-89d322b3dd29",
   "metadata": {},
   "source": [
    "# Spark ETL with SQL Database PostgreSQL\n",
    "\n",
    "1. Install required spark libraries\n",
    "2. Create connection with PostgreSQL Database\n",
    "3. Read data from PostgreSQL Database\n",
    "4. Transform data\n",
    "5. Write data into PostgreSQL Server"
   ]
  },
  {
   "cell_type": "markdown",
   "id": "ca64f8d1-7101-4f07-a930-e339e4f415c5",
   "metadata": {},
   "source": [
    "### 1- Spark Librairies\n",
    "\n",
    "Start Spark Session and Load all the required library"
   ]
  },
  {
   "cell_type": "code",
   "execution_count": 1,
   "id": "74c5814e-bcb3-414d-b102-6e9b43c54bf6",
   "metadata": {
    "tags": []
   },
   "outputs": [],
   "source": [
    "from pyspark.sql import SparkSession"
   ]
  },
  {
   "cell_type": "markdown",
   "id": "7f92d207-72f7-4efb-8eae-ab395d54fc31",
   "metadata": {},
   "source": [
    "https://mvnrepository.com/artifact/org.postgresql/postgresql/42.6.0 : 'org.postgresql:postgresql:42.6.0'"
   ]
  },
  {
   "cell_type": "code",
   "execution_count": 2,
   "id": "2949d574-7e3f-4537-84fe-b73c270916a5",
   "metadata": {
    "tags": []
   },
   "outputs": [],
   "source": [
    "#Start Spark Session\n",
    "spark_postgres = SparkSession.builder.appName(\"postgreSQL\")\\\n",
    "        .config('spark.jars.packages', 'org.postgresql:postgresql:42.6.0')\\\n",
    "        .getOrCreate()\n",
    "sqlContext = SparkSession(spark_postgres)"
   ]
  },
  {
   "cell_type": "code",
   "execution_count": 3,
   "id": "f90de26c-f56b-4e02-a61d-a44990f51767",
   "metadata": {
    "tags": []
   },
   "outputs": [
    {
     "data": {
      "text/html": [
       "\n",
       "            <div>\n",
       "                <p><b>SparkSession - in-memory</b></p>\n",
       "                \n",
       "        <div>\n",
       "            <p><b>SparkContext</b></p>\n",
       "\n",
       "            <p><a href=\"http://DESKTOP-O58PAUC:4040\">Spark UI</a></p>\n",
       "\n",
       "            <dl>\n",
       "              <dt>Version</dt>\n",
       "                <dd><code>v3.4.0</code></dd>\n",
       "              <dt>Master</dt>\n",
       "                <dd><code>local[*]</code></dd>\n",
       "              <dt>AppName</dt>\n",
       "                <dd><code>postgreSQL</code></dd>\n",
       "            </dl>\n",
       "        </div>\n",
       "        \n",
       "            </div>\n",
       "        "
      ],
      "text/plain": [
       "<pyspark.sql.session.SparkSession at 0x1c524227190>"
      ]
     },
     "execution_count": 3,
     "metadata": {},
     "output_type": "execute_result"
    }
   ],
   "source": [
    "spark_postgres"
   ]
  },
  {
   "cell_type": "markdown",
   "id": "15dd217b-d984-45dc-902c-464dbf423f57",
   "metadata": {
    "tags": []
   },
   "source": [
    "### 2- Create Connection"
   ]
  },
  {
   "cell_type": "code",
   "execution_count": 9,
   "id": "910635a3-5953-4af8-820c-4a04b5d83d0c",
   "metadata": {
    "tags": []
   },
   "outputs": [],
   "source": [
    "#Load CSV file into DataFrame\n",
    "postgre_df = spark_postgres.read \\\n",
    "    .format(\"jdbc\") \\\n",
    "    .option(\"driver\",\"org.postgresql.Driver\") \\\n",
    "    .option(\"url\", \"jdbc:postgresql://127.0.0.1:5432/Spark_db\") \\\n",
    "    .option(\"dbtable\", \"employee\") \\\n",
    "    .option(\"user\", \"postgres\") \\\n",
    "    .option(\"password\", \"xxxx\") \\\n",
    "    .load()"
   ]
  },
  {
   "cell_type": "code",
   "execution_count": 10,
   "id": "5d7bf9b2-3690-46fb-8380-c3b68bb537be",
   "metadata": {
    "tags": []
   },
   "outputs": [
    {
     "name": "stdout",
     "output_type": "stream",
     "text": [
      "+-----------+----------------+--------------------+-----------+--------------------+------+---------+---+----------+--------------------+--------------------+-------------+--------+---------+\n",
      "|employee_id|       full_name|           job_title|departement|       business_unit|gendre|ethnicity|age| hire_date|       annual_salary|               bonus|      country|    city|exit_date|\n",
      "+-----------+----------------+--------------------+-----------+--------------------+------+---------+---+----------+--------------------+--------------------+-------------+--------+---------+\n",
      "|     E02002|          Kai Le|   Controls Engineer|Engineering|       Manufacturing|  Male|    Asian| 47|02/05/2022|92.36800000000000...|               0E-18|United States|Columbus|     null|\n",
      "|     E02003|    Robert Patel|             Analyst|      Sales|           Corporate|  Male|    Asian| 58|10/23/2013|45.70300000000000...|               0E-18|United States| Chicago|     null|\n",
      "|     E02004|      Cameron Lo|Network Administr...|         IT|Research & Develo...|  Male|    Asian| 34| 3/24/2019|83.57600000000000...|               0E-18|        China|Shanghai|     null|\n",
      "|     E02005| Harper Castillo|IT Systems Architect|         IT|           Corporate|Female|   Latino| 39|04/07/2018|98.06200000000000...|               0E-18|United States| Seattle|     null|\n",
      "|     E02006|Harper Dominguez|            Director|Engineering|           Corporate|Female|   Latino| 42| 6/18/2005|175.3910000000000...|24.00000000000000...|United States|  Austin|     null|\n",
      "+-----------+----------------+--------------------+-----------+--------------------+------+---------+---+----------+--------------------+--------------------+-------------+--------+---------+\n",
      "only showing top 5 rows\n",
      "\n"
     ]
    }
   ],
   "source": [
    "postgre_df.show(5)"
   ]
  },
  {
   "cell_type": "code",
   "execution_count": 11,
   "id": "82427763-ce2f-4d6a-931e-d34104718c64",
   "metadata": {
    "tags": []
   },
   "outputs": [
    {
     "name": "stdout",
     "output_type": "stream",
     "text": [
      "root\n",
      " |-- employee_id: string (nullable = true)\n",
      " |-- full_name: string (nullable = true)\n",
      " |-- job_title: string (nullable = true)\n",
      " |-- departement: string (nullable = true)\n",
      " |-- business_unit: string (nullable = true)\n",
      " |-- gendre: string (nullable = true)\n",
      " |-- ethnicity: string (nullable = true)\n",
      " |-- age: integer (nullable = true)\n",
      " |-- hire_date: string (nullable = true)\n",
      " |-- annual_salary: decimal(38,18) (nullable = true)\n",
      " |-- bonus: decimal(38,18) (nullable = true)\n",
      " |-- country: string (nullable = true)\n",
      " |-- city: string (nullable = true)\n",
      " |-- exit_date: string (nullable = true)\n",
      "\n"
     ]
    }
   ],
   "source": [
    "postgre_df.printSchema()"
   ]
  },
  {
   "cell_type": "markdown",
   "id": "e568ef68-4209-4e12-a0a9-b48c0b33cda8",
   "metadata": {
    "tags": []
   },
   "source": [
    "### 3- Transform data"
   ]
  },
  {
   "cell_type": "code",
   "execution_count": 15,
   "id": "c27d3dbf-7e64-46f7-bd3b-09e3d069fd4a",
   "metadata": {
    "tags": []
   },
   "outputs": [],
   "source": [
    "# Create tempory tabel\n",
    "postgre_df.createOrReplaceTempView(\"tempPostgres\")"
   ]
  },
  {
   "cell_type": "code",
   "execution_count": 20,
   "id": "6e95535e-2ef9-4897-a62b-3b3d4ff7246e",
   "metadata": {
    "tags": []
   },
   "outputs": [
    {
     "data": {
      "text/plain": [
       "1000"
      ]
     },
     "execution_count": 20,
     "metadata": {},
     "output_type": "execute_result"
    }
   ],
   "source": [
    "postgre_df.count()"
   ]
  },
  {
   "cell_type": "code",
   "execution_count": 18,
   "id": "f52eb077-c3ed-447f-b54d-c426a9fd1321",
   "metadata": {
    "tags": []
   },
   "outputs": [],
   "source": [
    "postgre_test = sqlContext.sql(\"select * from tempPostgres where age > 35\")"
   ]
  },
  {
   "cell_type": "code",
   "execution_count": 19,
   "id": "d32a2503-7f0d-41e2-85d7-4dfc897cdd84",
   "metadata": {
    "tags": []
   },
   "outputs": [
    {
     "data": {
      "text/plain": [
       "736"
      ]
     },
     "execution_count": 19,
     "metadata": {},
     "output_type": "execute_result"
    }
   ],
   "source": [
    "postgre_test.count()"
   ]
  },
  {
   "cell_type": "markdown",
   "id": "603d5e3b-1a5c-45bf-9716-2906cdd1bb93",
   "metadata": {
    "tags": []
   },
   "source": [
    "### 3- Write data"
   ]
  },
  {
   "cell_type": "code",
   "execution_count": 21,
   "id": "52b1c8bd-b4e1-499c-b962-53404ce63366",
   "metadata": {
    "tags": []
   },
   "outputs": [],
   "source": [
    "postgre_test.write \\\n",
    "    .format(\"jdbc\")\\\n",
    "    .option(\"driver\",\"org.postgresql.Driver\") \\\n",
    "    .option(\"url\", \"jdbc:postgresql://127.0.0.1:5432/Spark_db\") \\\n",
    "    .option(\"dbtable\", \"postgre_test\") \\\n",
    "    .option(\"user\", \"postgres\") \\\n",
    "    .option(\"password\", \"xxx\") \\\n",
    "    .save()"
   ]
  },
  {
   "cell_type": "code",
   "execution_count": null,
   "id": "39fd30fc-00ab-425c-9313-4ec534637b5a",
   "metadata": {},
   "outputs": [],
   "source": []
  }
 ],
 "metadata": {
  "kernelspec": {
   "display_name": "pyenv",
   "language": "python",
   "name": "pyenv"
  },
  "language_info": {
   "codemirror_mode": {
    "name": "ipython",
    "version": 3
   },
   "file_extension": ".py",
   "mimetype": "text/x-python",
   "name": "python",
   "nbconvert_exporter": "python",
   "pygments_lexer": "ipython3",
   "version": "3.11.0"
  }
 },
 "nbformat": 4,
 "nbformat_minor": 5
}
